{
 "cells": [
  {
   "cell_type": "markdown",
   "id": "e43cc9d8",
   "metadata": {},
   "source": [
    "# Off FaceBook Analysis Report\n",
    "#### Josh Malone"
   ]
  },
  {
   "cell_type": "code",
   "execution_count": 2,
   "id": "701197d1",
   "metadata": {},
   "outputs": [],
   "source": [
    "import pandas as pd\n",
    "import json\n",
    "import numpy as np\n",
    "from matplotlib import pyplot as plt\n",
    "from scipy import stats"
   ]
  },
  {
   "cell_type": "markdown",
   "id": "565c39b1",
   "metadata": {},
   "source": [
    "My guess as to what apps will be present in this data is just that, a guess. I dont actively use facebook but I do have an account, so I am going to assume that any of the websites and apps listed in the data, are any of the websites I use on a regular basis, due to the fact that I use the same email and sign in to websites with Google all the time. With that being said, I assume that some of the websites will be sports related, like ESPN and Bleacher Report, as well as some sneaker apps like Sole Retriever and Sneaker Huddle. Additionally maybe educational related sites like Kent State."
   ]
  },
  {
   "cell_type": "code",
   "execution_count": 3,
   "id": "2259d6c6",
   "metadata": {},
   "outputs": [],
   "source": [
    "with open(r\"C:\\Users\\joshu\\DataEMATfa22\\facebook-joshmalone3726\\apps_and_websites_off_of_facebook\\your_off-facebook_activity.json\") as j:\n",
    "    fb_data = json.load(j)"
   ]
  },
  {
   "cell_type": "code",
   "execution_count": 4,
   "id": "9b72a2b4",
   "metadata": {},
   "outputs": [],
   "source": [
    "fb_df = pd.DataFrame(fb_data)"
   ]
  },
  {
   "cell_type": "code",
   "execution_count": 5,
   "id": "a167adb1",
   "metadata": {},
   "outputs": [
    {
     "data": {
      "text/html": [
       "<div>\n",
       "<style scoped>\n",
       "    .dataframe tbody tr th:only-of-type {\n",
       "        vertical-align: middle;\n",
       "    }\n",
       "\n",
       "    .dataframe tbody tr th {\n",
       "        vertical-align: top;\n",
       "    }\n",
       "\n",
       "    .dataframe thead th {\n",
       "        text-align: right;\n",
       "    }\n",
       "</style>\n",
       "<table border=\"1\" class=\"dataframe\">\n",
       "  <thead>\n",
       "    <tr style=\"text-align: right;\">\n",
       "      <th></th>\n",
       "      <th>off_facebook_activity_v2</th>\n",
       "    </tr>\n",
       "  </thead>\n",
       "  <tbody>\n",
       "    <tr>\n",
       "      <th>0</th>\n",
       "      <td>{'name': 'coursehero.com', 'events': [{'id': 1...</td>\n",
       "    </tr>\n",
       "    <tr>\n",
       "      <th>1</th>\n",
       "      <td>{'name': 'kent.edu', 'events': [{'id': 6619043...</td>\n",
       "    </tr>\n",
       "    <tr>\n",
       "      <th>2</th>\n",
       "      <td>{'name': 'espn.com', 'events': [{'id': 5044125...</td>\n",
       "    </tr>\n",
       "    <tr>\n",
       "      <th>3</th>\n",
       "      <td>{'name': 'LinkedIn NAMER', 'events': [{'id': 1...</td>\n",
       "    </tr>\n",
       "    <tr>\n",
       "      <th>4</th>\n",
       "      <td>{'name': 'linkedin.com', 'events': [{'id': 106...</td>\n",
       "    </tr>\n",
       "    <tr>\n",
       "      <th>...</th>\n",
       "      <td>...</td>\n",
       "    </tr>\n",
       "    <tr>\n",
       "      <th>208</th>\n",
       "      <td>{'name': 'marketwatch.com', 'events': [{'id': ...</td>\n",
       "    </tr>\n",
       "    <tr>\n",
       "      <th>209</th>\n",
       "      <td>{'name': 'whitney.org', 'events': [{'id': 1684...</td>\n",
       "    </tr>\n",
       "    <tr>\n",
       "      <th>210</th>\n",
       "      <td>{'name': 'Wish', 'events': [{'id': 53187958402...</td>\n",
       "    </tr>\n",
       "    <tr>\n",
       "      <th>211</th>\n",
       "      <td>{'name': 'Voter Participation Center', 'events...</td>\n",
       "    </tr>\n",
       "    <tr>\n",
       "      <th>212</th>\n",
       "      <td>{'name': 'adsquare', 'events': [{'id': 2409646...</td>\n",
       "    </tr>\n",
       "  </tbody>\n",
       "</table>\n",
       "<p>213 rows × 1 columns</p>\n",
       "</div>"
      ],
      "text/plain": [
       "                              off_facebook_activity_v2\n",
       "0    {'name': 'coursehero.com', 'events': [{'id': 1...\n",
       "1    {'name': 'kent.edu', 'events': [{'id': 6619043...\n",
       "2    {'name': 'espn.com', 'events': [{'id': 5044125...\n",
       "3    {'name': 'LinkedIn NAMER', 'events': [{'id': 1...\n",
       "4    {'name': 'linkedin.com', 'events': [{'id': 106...\n",
       "..                                                 ...\n",
       "208  {'name': 'marketwatch.com', 'events': [{'id': ...\n",
       "209  {'name': 'whitney.org', 'events': [{'id': 1684...\n",
       "210  {'name': 'Wish', 'events': [{'id': 53187958402...\n",
       "211  {'name': 'Voter Participation Center', 'events...\n",
       "212  {'name': 'adsquare', 'events': [{'id': 2409646...\n",
       "\n",
       "[213 rows x 1 columns]"
      ]
     },
     "execution_count": 5,
     "metadata": {},
     "output_type": "execute_result"
    }
   ],
   "source": [
    "fb_df"
   ]
  },
  {
   "cell_type": "code",
   "execution_count": 6,
   "id": "b3f3a10c",
   "metadata": {},
   "outputs": [],
   "source": [
    "fb_df2 = pd.DataFrame(fb_data['off_facebook_activity_v2'])"
   ]
  },
  {
   "cell_type": "code",
   "execution_count": 7,
   "id": "7e5cba9f",
   "metadata": {
    "scrolled": true
   },
   "outputs": [
    {
     "data": {
      "text/html": [
       "<div>\n",
       "<style scoped>\n",
       "    .dataframe tbody tr th:only-of-type {\n",
       "        vertical-align: middle;\n",
       "    }\n",
       "\n",
       "    .dataframe tbody tr th {\n",
       "        vertical-align: top;\n",
       "    }\n",
       "\n",
       "    .dataframe thead th {\n",
       "        text-align: right;\n",
       "    }\n",
       "</style>\n",
       "<table border=\"1\" class=\"dataframe\">\n",
       "  <thead>\n",
       "    <tr style=\"text-align: right;\">\n",
       "      <th></th>\n",
       "      <th>name</th>\n",
       "      <th>events</th>\n",
       "    </tr>\n",
       "  </thead>\n",
       "  <tbody>\n",
       "    <tr>\n",
       "      <th>0</th>\n",
       "      <td>coursehero.com</td>\n",
       "      <td>[{'id': 1915956025394562, 'type': 'PAGE_VIEW',...</td>\n",
       "    </tr>\n",
       "    <tr>\n",
       "      <th>1</th>\n",
       "      <td>kent.edu</td>\n",
       "      <td>[{'id': 661904321318543, 'type': 'PAGE_VIEW', ...</td>\n",
       "    </tr>\n",
       "    <tr>\n",
       "      <th>2</th>\n",
       "      <td>espn.com</td>\n",
       "      <td>[{'id': 504412503408123, 'type': 'PAGE_VIEW', ...</td>\n",
       "    </tr>\n",
       "    <tr>\n",
       "      <th>3</th>\n",
       "      <td>LinkedIn NAMER</td>\n",
       "      <td>[{'id': 136430647058082, 'type': 'CUSTOM', 'ti...</td>\n",
       "    </tr>\n",
       "    <tr>\n",
       "      <th>4</th>\n",
       "      <td>linkedin.com</td>\n",
       "      <td>[{'id': 1064772166942435, 'type': 'PAGE_VIEW',...</td>\n",
       "    </tr>\n",
       "    <tr>\n",
       "      <th>...</th>\n",
       "      <td>...</td>\n",
       "      <td>...</td>\n",
       "    </tr>\n",
       "    <tr>\n",
       "      <th>208</th>\n",
       "      <td>marketwatch.com</td>\n",
       "      <td>[{'id': 1210050626040606, 'type': 'PURCHASE', ...</td>\n",
       "    </tr>\n",
       "    <tr>\n",
       "      <th>209</th>\n",
       "      <td>whitney.org</td>\n",
       "      <td>[{'id': 1684932428196399, 'type': 'PAGE_VIEW',...</td>\n",
       "    </tr>\n",
       "    <tr>\n",
       "      <th>210</th>\n",
       "      <td>Wish</td>\n",
       "      <td>[{'id': 531879584026334, 'type': 'LEAD', 'time...</td>\n",
       "    </tr>\n",
       "    <tr>\n",
       "      <th>211</th>\n",
       "      <td>Voter Participation Center</td>\n",
       "      <td>[{'id': 218388982274811, 'type': 'SEARCH', 'ti...</td>\n",
       "    </tr>\n",
       "    <tr>\n",
       "      <th>212</th>\n",
       "      <td>adsquare</td>\n",
       "      <td>[{'id': 2409646619340752, 'type': 'CUSTOM', 't...</td>\n",
       "    </tr>\n",
       "  </tbody>\n",
       "</table>\n",
       "<p>213 rows × 2 columns</p>\n",
       "</div>"
      ],
      "text/plain": [
       "                           name  \\\n",
       "0                coursehero.com   \n",
       "1                      kent.edu   \n",
       "2                      espn.com   \n",
       "3                LinkedIn NAMER   \n",
       "4                  linkedin.com   \n",
       "..                          ...   \n",
       "208             marketwatch.com   \n",
       "209                 whitney.org   \n",
       "210                        Wish   \n",
       "211  Voter Participation Center   \n",
       "212                    adsquare   \n",
       "\n",
       "                                                events  \n",
       "0    [{'id': 1915956025394562, 'type': 'PAGE_VIEW',...  \n",
       "1    [{'id': 661904321318543, 'type': 'PAGE_VIEW', ...  \n",
       "2    [{'id': 504412503408123, 'type': 'PAGE_VIEW', ...  \n",
       "3    [{'id': 136430647058082, 'type': 'CUSTOM', 'ti...  \n",
       "4    [{'id': 1064772166942435, 'type': 'PAGE_VIEW',...  \n",
       "..                                                 ...  \n",
       "208  [{'id': 1210050626040606, 'type': 'PURCHASE', ...  \n",
       "209  [{'id': 1684932428196399, 'type': 'PAGE_VIEW',...  \n",
       "210  [{'id': 531879584026334, 'type': 'LEAD', 'time...  \n",
       "211  [{'id': 218388982274811, 'type': 'SEARCH', 'ti...  \n",
       "212  [{'id': 2409646619340752, 'type': 'CUSTOM', 't...  \n",
       "\n",
       "[213 rows x 2 columns]"
      ]
     },
     "execution_count": 7,
     "metadata": {},
     "output_type": "execute_result"
    }
   ],
   "source": [
    "fb_df2"
   ]
  },
  {
   "cell_type": "markdown",
   "id": "5618ab41",
   "metadata": {},
   "source": [
    "The events key is significant due to the fact that this parent array is essentially how many time you visited the site. So an 'event' and each event has different ID's which is the amount of times you have visited the site, so we need that in order to count how many times you have used each website or app."
   ]
  },
  {
   "cell_type": "code",
   "execution_count": 8,
   "id": "628f88c2",
   "metadata": {},
   "outputs": [],
   "source": [
    "name_count = [len(x) for x in fb_df2['events']]"
   ]
  },
  {
   "cell_type": "code",
   "execution_count": 9,
   "id": "d1f2fd22",
   "metadata": {},
   "outputs": [],
   "source": [
    "fb_df3 = pd.DataFrame(name_count)"
   ]
  },
  {
   "cell_type": "code",
   "execution_count": 10,
   "id": "5ebf32c4",
   "metadata": {},
   "outputs": [
    {
     "data": {
      "text/html": [
       "<div>\n",
       "<style scoped>\n",
       "    .dataframe tbody tr th:only-of-type {\n",
       "        vertical-align: middle;\n",
       "    }\n",
       "\n",
       "    .dataframe tbody tr th {\n",
       "        vertical-align: top;\n",
       "    }\n",
       "\n",
       "    .dataframe thead th {\n",
       "        text-align: right;\n",
       "    }\n",
       "</style>\n",
       "<table border=\"1\" class=\"dataframe\">\n",
       "  <thead>\n",
       "    <tr style=\"text-align: right;\">\n",
       "      <th></th>\n",
       "      <th>0</th>\n",
       "    </tr>\n",
       "  </thead>\n",
       "  <tbody>\n",
       "    <tr>\n",
       "      <th>0</th>\n",
       "      <td>3</td>\n",
       "    </tr>\n",
       "    <tr>\n",
       "      <th>1</th>\n",
       "      <td>392</td>\n",
       "    </tr>\n",
       "    <tr>\n",
       "      <th>2</th>\n",
       "      <td>47</td>\n",
       "    </tr>\n",
       "    <tr>\n",
       "      <th>3</th>\n",
       "      <td>36</td>\n",
       "    </tr>\n",
       "    <tr>\n",
       "      <th>4</th>\n",
       "      <td>67</td>\n",
       "    </tr>\n",
       "    <tr>\n",
       "      <th>...</th>\n",
       "      <td>...</td>\n",
       "    </tr>\n",
       "    <tr>\n",
       "      <th>208</th>\n",
       "      <td>2</td>\n",
       "    </tr>\n",
       "    <tr>\n",
       "      <th>209</th>\n",
       "      <td>9</td>\n",
       "    </tr>\n",
       "    <tr>\n",
       "      <th>210</th>\n",
       "      <td>3</td>\n",
       "    </tr>\n",
       "    <tr>\n",
       "      <th>211</th>\n",
       "      <td>1</td>\n",
       "    </tr>\n",
       "    <tr>\n",
       "      <th>212</th>\n",
       "      <td>1</td>\n",
       "    </tr>\n",
       "  </tbody>\n",
       "</table>\n",
       "<p>213 rows × 1 columns</p>\n",
       "</div>"
      ],
      "text/plain": [
       "       0\n",
       "0      3\n",
       "1    392\n",
       "2     47\n",
       "3     36\n",
       "4     67\n",
       "..   ...\n",
       "208    2\n",
       "209    9\n",
       "210    3\n",
       "211    1\n",
       "212    1\n",
       "\n",
       "[213 rows x 1 columns]"
      ]
     },
     "execution_count": 10,
     "metadata": {},
     "output_type": "execute_result"
    }
   ],
   "source": [
    "fb_df3"
   ]
  },
  {
   "cell_type": "code",
   "execution_count": 11,
   "id": "5a4896bf",
   "metadata": {},
   "outputs": [],
   "source": [
    "fb_df2['count'] = name_count"
   ]
  },
  {
   "cell_type": "code",
   "execution_count": 12,
   "id": "a12a622e",
   "metadata": {},
   "outputs": [
    {
     "data": {
      "text/html": [
       "<div>\n",
       "<style scoped>\n",
       "    .dataframe tbody tr th:only-of-type {\n",
       "        vertical-align: middle;\n",
       "    }\n",
       "\n",
       "    .dataframe tbody tr th {\n",
       "        vertical-align: top;\n",
       "    }\n",
       "\n",
       "    .dataframe thead th {\n",
       "        text-align: right;\n",
       "    }\n",
       "</style>\n",
       "<table border=\"1\" class=\"dataframe\">\n",
       "  <thead>\n",
       "    <tr style=\"text-align: right;\">\n",
       "      <th></th>\n",
       "      <th>name</th>\n",
       "      <th>events</th>\n",
       "      <th>count</th>\n",
       "    </tr>\n",
       "  </thead>\n",
       "  <tbody>\n",
       "    <tr>\n",
       "      <th>0</th>\n",
       "      <td>coursehero.com</td>\n",
       "      <td>[{'id': 1915956025394562, 'type': 'PAGE_VIEW',...</td>\n",
       "      <td>3</td>\n",
       "    </tr>\n",
       "    <tr>\n",
       "      <th>1</th>\n",
       "      <td>kent.edu</td>\n",
       "      <td>[{'id': 661904321318543, 'type': 'PAGE_VIEW', ...</td>\n",
       "      <td>392</td>\n",
       "    </tr>\n",
       "    <tr>\n",
       "      <th>2</th>\n",
       "      <td>espn.com</td>\n",
       "      <td>[{'id': 504412503408123, 'type': 'PAGE_VIEW', ...</td>\n",
       "      <td>47</td>\n",
       "    </tr>\n",
       "    <tr>\n",
       "      <th>3</th>\n",
       "      <td>LinkedIn NAMER</td>\n",
       "      <td>[{'id': 136430647058082, 'type': 'CUSTOM', 'ti...</td>\n",
       "      <td>36</td>\n",
       "    </tr>\n",
       "    <tr>\n",
       "      <th>4</th>\n",
       "      <td>linkedin.com</td>\n",
       "      <td>[{'id': 1064772166942435, 'type': 'PAGE_VIEW',...</td>\n",
       "      <td>67</td>\n",
       "    </tr>\n",
       "    <tr>\n",
       "      <th>...</th>\n",
       "      <td>...</td>\n",
       "      <td>...</td>\n",
       "      <td>...</td>\n",
       "    </tr>\n",
       "    <tr>\n",
       "      <th>208</th>\n",
       "      <td>marketwatch.com</td>\n",
       "      <td>[{'id': 1210050626040606, 'type': 'PURCHASE', ...</td>\n",
       "      <td>2</td>\n",
       "    </tr>\n",
       "    <tr>\n",
       "      <th>209</th>\n",
       "      <td>whitney.org</td>\n",
       "      <td>[{'id': 1684932428196399, 'type': 'PAGE_VIEW',...</td>\n",
       "      <td>9</td>\n",
       "    </tr>\n",
       "    <tr>\n",
       "      <th>210</th>\n",
       "      <td>Wish</td>\n",
       "      <td>[{'id': 531879584026334, 'type': 'LEAD', 'time...</td>\n",
       "      <td>3</td>\n",
       "    </tr>\n",
       "    <tr>\n",
       "      <th>211</th>\n",
       "      <td>Voter Participation Center</td>\n",
       "      <td>[{'id': 218388982274811, 'type': 'SEARCH', 'ti...</td>\n",
       "      <td>1</td>\n",
       "    </tr>\n",
       "    <tr>\n",
       "      <th>212</th>\n",
       "      <td>adsquare</td>\n",
       "      <td>[{'id': 2409646619340752, 'type': 'CUSTOM', 't...</td>\n",
       "      <td>1</td>\n",
       "    </tr>\n",
       "  </tbody>\n",
       "</table>\n",
       "<p>213 rows × 3 columns</p>\n",
       "</div>"
      ],
      "text/plain": [
       "                           name  \\\n",
       "0                coursehero.com   \n",
       "1                      kent.edu   \n",
       "2                      espn.com   \n",
       "3                LinkedIn NAMER   \n",
       "4                  linkedin.com   \n",
       "..                          ...   \n",
       "208             marketwatch.com   \n",
       "209                 whitney.org   \n",
       "210                        Wish   \n",
       "211  Voter Participation Center   \n",
       "212                    adsquare   \n",
       "\n",
       "                                                events  count  \n",
       "0    [{'id': 1915956025394562, 'type': 'PAGE_VIEW',...      3  \n",
       "1    [{'id': 661904321318543, 'type': 'PAGE_VIEW', ...    392  \n",
       "2    [{'id': 504412503408123, 'type': 'PAGE_VIEW', ...     47  \n",
       "3    [{'id': 136430647058082, 'type': 'CUSTOM', 'ti...     36  \n",
       "4    [{'id': 1064772166942435, 'type': 'PAGE_VIEW',...     67  \n",
       "..                                                 ...    ...  \n",
       "208  [{'id': 1210050626040606, 'type': 'PURCHASE', ...      2  \n",
       "209  [{'id': 1684932428196399, 'type': 'PAGE_VIEW',...      9  \n",
       "210  [{'id': 531879584026334, 'type': 'LEAD', 'time...      3  \n",
       "211  [{'id': 218388982274811, 'type': 'SEARCH', 'ti...      1  \n",
       "212  [{'id': 2409646619340752, 'type': 'CUSTOM', 't...      1  \n",
       "\n",
       "[213 rows x 3 columns]"
      ]
     },
     "execution_count": 12,
     "metadata": {},
     "output_type": "execute_result"
    }
   ],
   "source": [
    "fb_df2"
   ]
  },
  {
   "cell_type": "code",
   "execution_count": 13,
   "id": "91ab7284",
   "metadata": {},
   "outputs": [
    {
     "data": {
      "text/html": [
       "<div>\n",
       "<style scoped>\n",
       "    .dataframe tbody tr th:only-of-type {\n",
       "        vertical-align: middle;\n",
       "    }\n",
       "\n",
       "    .dataframe tbody tr th {\n",
       "        vertical-align: top;\n",
       "    }\n",
       "\n",
       "    .dataframe thead th {\n",
       "        text-align: right;\n",
       "    }\n",
       "</style>\n",
       "<table border=\"1\" class=\"dataframe\">\n",
       "  <thead>\n",
       "    <tr style=\"text-align: right;\">\n",
       "      <th></th>\n",
       "      <th>name</th>\n",
       "      <th>events</th>\n",
       "      <th>count</th>\n",
       "    </tr>\n",
       "  </thead>\n",
       "  <tbody>\n",
       "    <tr>\n",
       "      <th>1</th>\n",
       "      <td>kent.edu</td>\n",
       "      <td>[{'id': 661904321318543, 'type': 'PAGE_VIEW', ...</td>\n",
       "      <td>392</td>\n",
       "    </tr>\n",
       "    <tr>\n",
       "      <th>35</th>\n",
       "      <td>unity.com</td>\n",
       "      <td>[{'id': 1062735023749175, 'type': 'PAGE_VIEW',...</td>\n",
       "      <td>68</td>\n",
       "    </tr>\n",
       "    <tr>\n",
       "      <th>4</th>\n",
       "      <td>linkedin.com</td>\n",
       "      <td>[{'id': 1064772166942435, 'type': 'PAGE_VIEW',...</td>\n",
       "      <td>67</td>\n",
       "    </tr>\n",
       "    <tr>\n",
       "      <th>51</th>\n",
       "      <td>stockx.com</td>\n",
       "      <td>[{'id': 1186877361351824, 'type': 'PAGE_VIEW',...</td>\n",
       "      <td>53</td>\n",
       "    </tr>\n",
       "    <tr>\n",
       "      <th>70</th>\n",
       "      <td>6streams.tv</td>\n",
       "      <td>[{'id': 471056653027209, 'type': 'PAGE_VIEW', ...</td>\n",
       "      <td>51</td>\n",
       "    </tr>\n",
       "  </tbody>\n",
       "</table>\n",
       "</div>"
      ],
      "text/plain": [
       "            name                                             events  count\n",
       "1       kent.edu  [{'id': 661904321318543, 'type': 'PAGE_VIEW', ...    392\n",
       "35     unity.com  [{'id': 1062735023749175, 'type': 'PAGE_VIEW',...     68\n",
       "4   linkedin.com  [{'id': 1064772166942435, 'type': 'PAGE_VIEW',...     67\n",
       "51    stockx.com  [{'id': 1186877361351824, 'type': 'PAGE_VIEW',...     53\n",
       "70   6streams.tv  [{'id': 471056653027209, 'type': 'PAGE_VIEW', ...     51"
      ]
     },
     "execution_count": 13,
     "metadata": {},
     "output_type": "execute_result"
    }
   ],
   "source": [
    "fb_df2.sort_values('count', ascending=False).head(5)"
   ]
  },
  {
   "cell_type": "code",
   "execution_count": 14,
   "id": "f9f8fe4d",
   "metadata": {},
   "outputs": [],
   "source": [
    "fb_df5 = fb_df2.drop('events', axis = 1)"
   ]
  },
  {
   "cell_type": "code",
   "execution_count": 15,
   "id": "990bda1c",
   "metadata": {},
   "outputs": [
    {
     "data": {
      "text/html": [
       "<div>\n",
       "<style scoped>\n",
       "    .dataframe tbody tr th:only-of-type {\n",
       "        vertical-align: middle;\n",
       "    }\n",
       "\n",
       "    .dataframe tbody tr th {\n",
       "        vertical-align: top;\n",
       "    }\n",
       "\n",
       "    .dataframe thead th {\n",
       "        text-align: right;\n",
       "    }\n",
       "</style>\n",
       "<table border=\"1\" class=\"dataframe\">\n",
       "  <thead>\n",
       "    <tr style=\"text-align: right;\">\n",
       "      <th></th>\n",
       "      <th>name</th>\n",
       "      <th>count</th>\n",
       "    </tr>\n",
       "  </thead>\n",
       "  <tbody>\n",
       "    <tr>\n",
       "      <th>1</th>\n",
       "      <td>kent.edu</td>\n",
       "      <td>392</td>\n",
       "    </tr>\n",
       "    <tr>\n",
       "      <th>35</th>\n",
       "      <td>unity.com</td>\n",
       "      <td>68</td>\n",
       "    </tr>\n",
       "    <tr>\n",
       "      <th>4</th>\n",
       "      <td>linkedin.com</td>\n",
       "      <td>67</td>\n",
       "    </tr>\n",
       "    <tr>\n",
       "      <th>51</th>\n",
       "      <td>stockx.com</td>\n",
       "      <td>53</td>\n",
       "    </tr>\n",
       "    <tr>\n",
       "      <th>70</th>\n",
       "      <td>6streams.tv</td>\n",
       "      <td>51</td>\n",
       "    </tr>\n",
       "    <tr>\n",
       "      <th>25</th>\n",
       "      <td>quizlet.com</td>\n",
       "      <td>47</td>\n",
       "    </tr>\n",
       "    <tr>\n",
       "      <th>2</th>\n",
       "      <td>espn.com</td>\n",
       "      <td>47</td>\n",
       "    </tr>\n",
       "    <tr>\n",
       "      <th>100</th>\n",
       "      <td>fubo.tv</td>\n",
       "      <td>45</td>\n",
       "    </tr>\n",
       "    <tr>\n",
       "      <th>3</th>\n",
       "      <td>LinkedIn NAMER</td>\n",
       "      <td>36</td>\n",
       "    </tr>\n",
       "    <tr>\n",
       "      <th>69</th>\n",
       "      <td>adobe.com</td>\n",
       "      <td>27</td>\n",
       "    </tr>\n",
       "    <tr>\n",
       "      <th>24</th>\n",
       "      <td>chegg.com</td>\n",
       "      <td>21</td>\n",
       "    </tr>\n",
       "    <tr>\n",
       "      <th>176</th>\n",
       "      <td>shein.com</td>\n",
       "      <td>20</td>\n",
       "    </tr>\n",
       "    <tr>\n",
       "      <th>128</th>\n",
       "      <td>seatgeek.com</td>\n",
       "      <td>19</td>\n",
       "    </tr>\n",
       "    <tr>\n",
       "      <th>55</th>\n",
       "      <td>nba.com</td>\n",
       "      <td>19</td>\n",
       "    </tr>\n",
       "    <tr>\n",
       "      <th>17</th>\n",
       "      <td>travisscott.com</td>\n",
       "      <td>18</td>\n",
       "    </tr>\n",
       "    <tr>\n",
       "      <th>12</th>\n",
       "      <td>joinhandshake.com</td>\n",
       "      <td>18</td>\n",
       "    </tr>\n",
       "    <tr>\n",
       "      <th>107</th>\n",
       "      <td>cnn.com</td>\n",
       "      <td>17</td>\n",
       "    </tr>\n",
       "    <tr>\n",
       "      <th>52</th>\n",
       "      <td>unity3d.com</td>\n",
       "      <td>14</td>\n",
       "    </tr>\n",
       "    <tr>\n",
       "      <th>15</th>\n",
       "      <td>dtlr.com</td>\n",
       "      <td>12</td>\n",
       "    </tr>\n",
       "    <tr>\n",
       "      <th>174</th>\n",
       "      <td>redbubble.com</td>\n",
       "      <td>12</td>\n",
       "    </tr>\n",
       "  </tbody>\n",
       "</table>\n",
       "</div>"
      ],
      "text/plain": [
       "                  name  count\n",
       "1             kent.edu    392\n",
       "35           unity.com     68\n",
       "4         linkedin.com     67\n",
       "51          stockx.com     53\n",
       "70         6streams.tv     51\n",
       "25         quizlet.com     47\n",
       "2             espn.com     47\n",
       "100            fubo.tv     45\n",
       "3       LinkedIn NAMER     36\n",
       "69           adobe.com     27\n",
       "24           chegg.com     21\n",
       "176          shein.com     20\n",
       "128       seatgeek.com     19\n",
       "55             nba.com     19\n",
       "17     travisscott.com     18\n",
       "12   joinhandshake.com     18\n",
       "107            cnn.com     17\n",
       "52         unity3d.com     14\n",
       "15            dtlr.com     12\n",
       "174      redbubble.com     12"
      ]
     },
     "execution_count": 15,
     "metadata": {},
     "output_type": "execute_result"
    }
   ],
   "source": [
    "fb_df5.sort_values('count', ascending=False).head(20)"
   ]
  },
  {
   "cell_type": "code",
   "execution_count": 16,
   "id": "44ee185b",
   "metadata": {
    "scrolled": true
   },
   "outputs": [
    {
     "data": {
      "image/png": "[encoded data removed]",
      "text/plain": [
       "<Figure size 432x288 with 1 Axes>"
      ]
     },
     "metadata": {
      "needs_background": "light"
     },
     "output_type": "display_data"
    }
   ],
   "source": [
    "fig1, ax1 = plt.subplots()\n",
    "ax1.hist(fb_df5['count'])\n",
    "plt.show()"
   ]
  },
  {
   "cell_type": "markdown",
   "id": "455276a9",
   "metadata": {},
   "source": [
    "This data is not 'normal' there is one webiste that I visit quite often and many websites or apps that I do not visit often or just visited one time"
   ]
  },
  {
   "cell_type": "code",
   "execution_count": 17,
   "id": "915901bb",
   "metadata": {},
   "outputs": [
    {
     "data": {
      "image/png": "[encoded data removed]",
      "text/plain": [
       "<Figure size 1440x720 with 1 Axes>"
      ]
     },
     "metadata": {
      "needs_background": "light"
     },
     "output_type": "display_data"
    }
   ],
   "source": [
    "fig = plt.figure()\n",
    "ax = fig.add_axes([0,0,1,1])\n",
    "fig.set_figwidth(20)\n",
    "fig.set_figheight(10)\n",
    "sites = ['kent.edu', 'unity.com', 'linkedin.com', 'stockx.com', '6streams.tv', 'quizlet.com', 'espn.com', 'fubotv.com', 'LinkedIn NAMER', 'adobe.com', 'chegg.com', 'shein.com', 'seatgeek.com', 'nba.com', 'travisscott.com', 'joinhandshake.com', 'cnn.com', 'unity3d.com', 'dtlr.com', 'redbuddle.com']\n",
    "count = [392,68,67,53,51,47,47,45,36,27,21,20,19,19,18,18,17,14,12,12]\n",
    "ax.bar(sites,count)\n",
    "plt.show()"
   ]
  },
  {
   "cell_type": "markdown",
   "id": "289ac0cf",
   "metadata": {},
   "source": [
    "The data from this plot shows that I had one site that I visited way more than others. Facebook could conclude that I would maybe be a student and show me ads for things that college students might need or want."
   ]
  },
  {
   "cell_type": "markdown",
   "id": "7eaf27db",
   "metadata": {},
   "source": [
    "The two albums I will be looking at are the two we looked at in class, because I dont know how to pull in my own data with the Spotify API and credientals. The albums are 'Midnights' by Taylor Swift and 'Loneliest' by Carly Rae Jepsen."
   ]
  },
  {
   "cell_type": "code",
   "execution_count": 18,
   "id": "43250fbb",
   "metadata": {},
   "outputs": [],
   "source": [
    "albums = pd.read_csv('audio_features.csv', sep = ',')"
   ]
  },
  {
   "cell_type": "code",
   "execution_count": 19,
   "id": "c6fe5a2a",
   "metadata": {},
   "outputs": [
    {
     "data": {
      "text/html": [
       "<div>\n",
       "<style scoped>\n",
       "    .dataframe tbody tr th:only-of-type {\n",
       "        vertical-align: middle;\n",
       "    }\n",
       "\n",
       "    .dataframe tbody tr th {\n",
       "        vertical-align: top;\n",
       "    }\n",
       "\n",
       "    .dataframe thead th {\n",
       "        text-align: right;\n",
       "    }\n",
       "</style>\n",
       "<table border=\"1\" class=\"dataframe\">\n",
       "  <thead>\n",
       "    <tr style=\"text-align: right;\">\n",
       "      <th></th>\n",
       "      <th>Unnamed: 0</th>\n",
       "      <th>danceability</th>\n",
       "      <th>energy</th>\n",
       "      <th>key</th>\n",
       "      <th>loudness</th>\n",
       "      <th>mode</th>\n",
       "      <th>speechiness</th>\n",
       "      <th>acousticness</th>\n",
       "      <th>instrumentalness</th>\n",
       "      <th>liveness</th>\n",
       "      <th>valence</th>\n",
       "      <th>tempo</th>\n",
       "      <th>type</th>\n",
       "      <th>id</th>\n",
       "      <th>uri</th>\n",
       "      <th>track_href</th>\n",
       "      <th>analysis_url</th>\n",
       "      <th>duration_ms</th>\n",
       "      <th>time_signature</th>\n",
       "      <th>album</th>\n",
       "    </tr>\n",
       "  </thead>\n",
       "  <tbody>\n",
       "    <tr>\n",
       "      <th>0</th>\n",
       "      <td>0</td>\n",
       "      <td>0.735</td>\n",
       "      <td>0.444</td>\n",
       "      <td>10</td>\n",
       "      <td>-10.519</td>\n",
       "      <td>1</td>\n",
       "      <td>0.0684</td>\n",
       "      <td>0.2040</td>\n",
       "      <td>0.001200</td>\n",
       "      <td>0.1700</td>\n",
       "      <td>0.0984</td>\n",
       "      <td>97.038</td>\n",
       "      <td>audio_features</td>\n",
       "      <td>4g2c7NoTWAOSYDy44l9nub</td>\n",
       "      <td>spotify:track:4g2c7NoTWAOSYDy44l9nub</td>\n",
       "      <td>https://api.spotify.com/v1/tracks/4g2c7NoTWAOS...</td>\n",
       "      <td>https://api.spotify.com/v1/audio-analysis/4g2c...</td>\n",
       "      <td>202396</td>\n",
       "      <td>4</td>\n",
       "      <td>midnights</td>\n",
       "    </tr>\n",
       "    <tr>\n",
       "      <th>1</th>\n",
       "      <td>1</td>\n",
       "      <td>0.658</td>\n",
       "      <td>0.378</td>\n",
       "      <td>7</td>\n",
       "      <td>-8.300</td>\n",
       "      <td>1</td>\n",
       "      <td>0.0379</td>\n",
       "      <td>0.0593</td>\n",
       "      <td>0.000000</td>\n",
       "      <td>0.0976</td>\n",
       "      <td>0.0382</td>\n",
       "      <td>108.034</td>\n",
       "      <td>audio_features</td>\n",
       "      <td>199E1RRrVmVTQqBXih5qRC</td>\n",
       "      <td>spotify:track:199E1RRrVmVTQqBXih5qRC</td>\n",
       "      <td>https://api.spotify.com/v1/tracks/199E1RRrVmVT...</td>\n",
       "      <td>https://api.spotify.com/v1/audio-analysis/199E...</td>\n",
       "      <td>218271</td>\n",
       "      <td>4</td>\n",
       "      <td>midnights</td>\n",
       "    </tr>\n",
       "    <tr>\n",
       "      <th>2</th>\n",
       "      <td>2</td>\n",
       "      <td>0.638</td>\n",
       "      <td>0.634</td>\n",
       "      <td>4</td>\n",
       "      <td>-6.582</td>\n",
       "      <td>1</td>\n",
       "      <td>0.0457</td>\n",
       "      <td>0.1330</td>\n",
       "      <td>0.000001</td>\n",
       "      <td>0.1520</td>\n",
       "      <td>0.5190</td>\n",
       "      <td>96.953</td>\n",
       "      <td>audio_features</td>\n",
       "      <td>02Zkkf2zMkwRGQjZ7T4p8f</td>\n",
       "      <td>spotify:track:02Zkkf2zMkwRGQjZ7T4p8f</td>\n",
       "      <td>https://api.spotify.com/v1/tracks/02Zkkf2zMkwR...</td>\n",
       "      <td>https://api.spotify.com/v1/audio-analysis/02Zk...</td>\n",
       "      <td>200690</td>\n",
       "      <td>4</td>\n",
       "      <td>midnights</td>\n",
       "    </tr>\n",
       "    <tr>\n",
       "      <th>3</th>\n",
       "      <td>3</td>\n",
       "      <td>0.659</td>\n",
       "      <td>0.323</td>\n",
       "      <td>9</td>\n",
       "      <td>-13.425</td>\n",
       "      <td>1</td>\n",
       "      <td>0.0436</td>\n",
       "      <td>0.7350</td>\n",
       "      <td>0.003210</td>\n",
       "      <td>0.1160</td>\n",
       "      <td>0.1540</td>\n",
       "      <td>110.007</td>\n",
       "      <td>audio_features</td>\n",
       "      <td>6ADDIJxxqzM9LMpm78yzQG</td>\n",
       "      <td>spotify:track:6ADDIJxxqzM9LMpm78yzQG</td>\n",
       "      <td>https://api.spotify.com/v1/tracks/6ADDIJxxqzM9...</td>\n",
       "      <td>https://api.spotify.com/v1/audio-analysis/6ADD...</td>\n",
       "      <td>256124</td>\n",
       "      <td>4</td>\n",
       "      <td>midnights</td>\n",
       "    </tr>\n",
       "    <tr>\n",
       "      <th>4</th>\n",
       "      <td>4</td>\n",
       "      <td>0.694</td>\n",
       "      <td>0.380</td>\n",
       "      <td>2</td>\n",
       "      <td>-10.307</td>\n",
       "      <td>1</td>\n",
       "      <td>0.0614</td>\n",
       "      <td>0.4160</td>\n",
       "      <td>0.000008</td>\n",
       "      <td>0.1260</td>\n",
       "      <td>0.3760</td>\n",
       "      <td>120.044</td>\n",
       "      <td>audio_features</td>\n",
       "      <td>7gVWKBcfIW93YxNBi3ApIE</td>\n",
       "      <td>spotify:track:7gVWKBcfIW93YxNBi3ApIE</td>\n",
       "      <td>https://api.spotify.com/v1/tracks/7gVWKBcfIW93...</td>\n",
       "      <td>https://api.spotify.com/v1/audio-analysis/7gVW...</td>\n",
       "      <td>194207</td>\n",
       "      <td>4</td>\n",
       "      <td>midnights</td>\n",
       "    </tr>\n",
       "  </tbody>\n",
       "</table>\n",
       "</div>"
      ],
      "text/plain": [
       "   Unnamed: 0  danceability  energy  key  loudness  mode  speechiness  \\\n",
       "0           0         0.735   0.444   10   -10.519     1       0.0684   \n",
       "1           1         0.658   0.378    7    -8.300     1       0.0379   \n",
       "2           2         0.638   0.634    4    -6.582     1       0.0457   \n",
       "3           3         0.659   0.323    9   -13.425     1       0.0436   \n",
       "4           4         0.694   0.380    2   -10.307     1       0.0614   \n",
       "\n",
       "   acousticness  instrumentalness  liveness  valence    tempo            type  \\\n",
       "0        0.2040          0.001200    0.1700   0.0984   97.038  audio_features   \n",
       "1        0.0593          0.000000    0.0976   0.0382  108.034  audio_features   \n",
       "2        0.1330          0.000001    0.1520   0.5190   96.953  audio_features   \n",
       "3        0.7350          0.003210    0.1160   0.1540  110.007  audio_features   \n",
       "4        0.4160          0.000008    0.1260   0.3760  120.044  audio_features   \n",
       "\n",
       "                       id                                   uri  \\\n",
       "0  4g2c7NoTWAOSYDy44l9nub  spotify:track:4g2c7NoTWAOSYDy44l9nub   \n",
       "1  199E1RRrVmVTQqBXih5qRC  spotify:track:199E1RRrVmVTQqBXih5qRC   \n",
       "2  02Zkkf2zMkwRGQjZ7T4p8f  spotify:track:02Zkkf2zMkwRGQjZ7T4p8f   \n",
       "3  6ADDIJxxqzM9LMpm78yzQG  spotify:track:6ADDIJxxqzM9LMpm78yzQG   \n",
       "4  7gVWKBcfIW93YxNBi3ApIE  spotify:track:7gVWKBcfIW93YxNBi3ApIE   \n",
       "\n",
       "                                          track_href  \\\n",
       "0  https://api.spotify.com/v1/tracks/4g2c7NoTWAOS...   \n",
       "1  https://api.spotify.com/v1/tracks/199E1RRrVmVT...   \n",
       "2  https://api.spotify.com/v1/tracks/02Zkkf2zMkwR...   \n",
       "3  https://api.spotify.com/v1/tracks/6ADDIJxxqzM9...   \n",
       "4  https://api.spotify.com/v1/tracks/7gVWKBcfIW93...   \n",
       "\n",
       "                                        analysis_url  duration_ms  \\\n",
       "0  https://api.spotify.com/v1/audio-analysis/4g2c...       202396   \n",
       "1  https://api.spotify.com/v1/audio-analysis/199E...       218271   \n",
       "2  https://api.spotify.com/v1/audio-analysis/02Zk...       200690   \n",
       "3  https://api.spotify.com/v1/audio-analysis/6ADD...       256124   \n",
       "4  https://api.spotify.com/v1/audio-analysis/7gVW...       194207   \n",
       "\n",
       "   time_signature      album  \n",
       "0               4  midnights  \n",
       "1               4  midnights  \n",
       "2               4  midnights  \n",
       "3               4  midnights  \n",
       "4               4  midnights  "
      ]
     },
     "execution_count": 19,
     "metadata": {},
     "output_type": "execute_result"
    }
   ],
   "source": [
    "albums.head()"
   ]
  },
  {
   "cell_type": "markdown",
   "id": "a8ea9db3",
   "metadata": {},
   "source": [
    "First, I will look at the loudness and the energy of the two albums. "
   ]
  },
  {
   "cell_type": "code",
   "execution_count": 45,
   "id": "5a828226",
   "metadata": {},
   "outputs": [
    {
     "data": {
      "image/png": "[encoded data removed]",
      "text/plain": [
       "<Figure size 720x360 with 2 Axes>"
      ]
     },
     "metadata": {
      "needs_background": "light"
     },
     "output_type": "display_data"
    }
   ],
   "source": [
    "fig1, ax1 = plt.subplots(1, 2, layout = \"constrained\")\n",
    "fig1.set_figheight(5)\n",
    "fig1.set_figwidth(10)\n",
    "mid = albums[albums['album'] == 'midnights']\n",
    "lon = albums[albums['album'] == 'loneliest']\n",
    "\n",
    "ax1[0].hist(lon['loudness'], alpha = 0.5, label = 'Loneliest', color = 'green')\n",
    "ax1[0].hist(mid['loudness'], alpha = 0.5, label = 'Midnights', color = 'purple')\n",
    "ax1[0].set_title('Loudness for Two Different Albums')\n",
    "ax1[0].legend()\n",
    "\n",
    "ax1[1].hist(lon['energy'], alpha = 0.5, label = 'Loneliest', color = 'green')\n",
    "ax1[1].hist(mid['energy'], alpha = 0.5, label = 'Midnights', color = 'purple')\n",
    "ax1[1].set_title('Energy for Two Different Albums')\n",
    "ax1[1].legend()\n",
    "\n",
    "plt.show()"
   ]
  },
  {
   "cell_type": "markdown",
   "id": "df68acef",
   "metadata": {},
   "source": [
    "Based off of these two features, you can conclude that Carly Rae Jepsen's album, Loneliest, is both louder, and higher in energy than Taylor Swift's album, Midnights."
   ]
  },
  {
   "cell_type": "code",
   "execution_count": 65,
   "id": "d1e4e5ff",
   "metadata": {},
   "outputs": [
    {
     "data": {
      "image/png": "[encoded data removed]",
      "text/plain": [
       "<Figure size 720x360 with 2 Axes>"
      ]
     },
     "metadata": {
      "needs_background": "light"
     },
     "output_type": "display_data"
    }
   ],
   "source": [
    "fig1, ax1 = plt.subplots(1, 2, layout = \"constrained\")\n",
    "mid = albums[albums['album'] == 'midnights']\n",
    "lon = albums[albums['album'] == 'loneliest']\n",
    "fig1.set_figheight(5)\n",
    "fig1.set_figwidth(10)\n",
    "\n",
    "ax1[0].scatter(lon['energy'], lon['loudness'], label = 'Loneliest Album', color = 'purple')\n",
    "ax1[0].set_xlabel('Energy')\n",
    "ax1[0].set_ylabel('Loudness')\n",
    "ax1[0].set_title('Relationship between Loudness and Energy for Loneliest')\n",
    "\n",
    "ax1[1].scatter(mid['energy'], mid['loudness'], label = 'Midnights Album', color = 'purple')\n",
    "ax1[1].set_xlabel('Energy')\n",
    "ax1[1].set_ylabel('Loudness')\n",
    "ax1[1].set_title('Relationship between Loudness and Energy for Midnights')\n",
    "\n",
    "plt.show()"
   ]
  },
  {
   "cell_type": "code",
   "execution_count": 66,
   "id": "18a572a9",
   "metadata": {},
   "outputs": [
    {
     "data": {
      "text/plain": [
       "Text(0.5, 1.0, 'Relationship between Loudness and Energy for Midnights and Loneliest')"
      ]
     },
     "execution_count": 66,
     "metadata": {},
     "output_type": "execute_result"
    },
    {
     "data": {
      "image/png": "[encoded data removed]",
      "text/plain": [
       "<Figure size 720x360 with 1 Axes>"
      ]
     },
     "metadata": {
      "needs_background": "light"
     },
     "output_type": "display_data"
    }
   ],
   "source": [
    "fig1, ax1 = plt.subplots()\n",
    "mid = albums[albums['album'] == 'midnights']\n",
    "lon = albums[albums['album'] == 'loneliest']\n",
    "fig1.set_figheight(5)\n",
    "fig1.set_figwidth(10)\n",
    "\n",
    "ax1.scatter(lon['energy'], lon['loudness'], label = 'Loneliest Album', color = 'purple')\n",
    "ax1.scatter(mid['energy'], mid['loudness'], label = 'Loneliest Album', color = 'green')\n",
    "ax1.set_xlabel('Energy')\n",
    "ax1.set_ylabel('Loudness')\n",
    "ax1.set_title('Relationship between Loudness and Energy for Midnights and Loneliest')"
   ]
  },
  {
   "cell_type": "code",
   "execution_count": 72,
   "id": "47f96617",
   "metadata": {},
   "outputs": [
    {
     "data": {
      "image/png": "[encoded data removed]",
      "text/plain": [
       "<Figure size 432x288 with 1 Axes>"
      ]
     },
     "metadata": {
      "needs_background": "light"
     },
     "output_type": "display_data"
    }
   ],
   "source": [
    "fig1, ax1 = plt.subplots()\n",
    "mid = albums[albums['album'] == 'midnights']['tempo']\n",
    "lon = albums[albums['album'] == 'loneliest']['tempo']\n",
    "\n",
    "mid_x = [1] * len(mid)\n",
    "lon_x = [2] * len(lon)\n",
    "mid_x_jitter = np.random.uniform(-0.1, 0.1, len(mid_x))\n",
    "lon_x_jitter = np.random.uniform(-0.1, 0.1, len(lon_x))\n",
    "\n",
    "ax1.scatter(mid_x + mid_x_jitter, mid, alpha = 0.5)\n",
    "ax1.scatter(lon_x + lon_x_jitter, lon, alpha = 0.5)\n",
    "ax1.set_xlim(0.5, 2.5)\n",
    "ax1.boxplot([mid, lon])\n",
    "ax1.set_xticks([1,2], ['midnights', 'loneliest'])\n",
    "plt.show()"
   ]
  },
  {
   "cell_type": "code",
   "execution_count": null,
   "id": "7722539d",
   "metadata": {},
   "outputs": [],
   "source": []
  }
 ],
 "metadata": {
  "kernelspec": {
   "display_name": "Python 3 (ipykernel)",
   "language": "python",
   "name": "python3"
  },
  "language_info": {
   "codemirror_mode": {
    "name": "ipython",
    "version": 3
   },
   "file_extension": ".py",
   "mimetype": "text/x-python",
   "name": "python",
   "nbconvert_exporter": "python",
   "pygments_lexer": "ipython3",
   "version": "3.9.12"
  }
 },
 "nbformat": 4,
 "nbformat_minor": 5
}
