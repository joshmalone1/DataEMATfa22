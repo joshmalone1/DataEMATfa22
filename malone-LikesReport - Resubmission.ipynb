{
 "cells": [
  {
   "cell_type": "markdown",
   "id": "0976a67a",
   "metadata": {},
   "source": [
    "# Likes Report - Joshua Malone 9/20/22"
   ]
  },
  {
   "cell_type": "markdown",
   "id": "aa486550",
   "metadata": {},
   "source": [
    "### Analysis\n",
    "\n",
    "I will be analyzing data from instagram that holds all of a users (the user is my account) liked posts. it will be converted into a dataframe that will list each account, and the number of times the user has liked a post fromt that account. "
   ]
  },
  {
   "cell_type": "markdown",
   "id": "2286052f",
   "metadata": {},
   "source": [
    "### Hypothesis\n",
    "\n",
    "I would assume that the accounts that have been liked by the user are going to be the accounts that post the most content. So it will be accounts run by organizations, and most likely not a friends account, since the account run by a team post the most content, there is a better chance of the user liking one of their posts. The highest amount of likes an account will have will be in the 900-1000 range and lowest accounts will be 1, and there will be many accounts with just 1 like."
   ]
  },
  {
   "cell_type": "markdown",
   "id": "309c44a5",
   "metadata": {},
   "source": [
    "import libraries"
   ]
  },
  {
   "cell_type": "code",
   "execution_count": 56,
   "id": "71319dd1",
   "metadata": {},
   "outputs": [],
   "source": [
    "import pandas as pd\n",
    "import json"
   ]
  },
  {
   "cell_type": "markdown",
   "id": "ae155d64",
   "metadata": {},
   "source": [
    "import needed file"
   ]
  },
  {
   "cell_type": "code",
   "execution_count": 57,
   "id": "10399ab1",
   "metadata": {},
   "outputs": [],
   "source": [
    "with open(r\"C:\\Users\\joshu\\DataEMATfa22\\josh__malone_20220905\\likes\\liked_posts.json\") as j:\n",
    "    likes = json.load(j)"
   ]
  },
  {
   "cell_type": "markdown",
   "id": "ab4ceaa2",
   "metadata": {},
   "source": [
    "open data"
   ]
  },
  {
   "cell_type": "markdown",
   "id": "fbc62acc",
   "metadata": {},
   "source": [
    "create initial dataframe"
   ]
  },
  {
   "cell_type": "code",
   "execution_count": 58,
   "id": "c3ea6043",
   "metadata": {},
   "outputs": [],
   "source": [
    "like_df = pd.DataFrame(likes)"
   ]
  },
  {
   "cell_type": "markdown",
   "id": "894a71c9",
   "metadata": {},
   "source": [
    "3a) the data was collected by us (the user of the account) and instagram. the data was provided by us, we created the data by liking a photo on instagram, and instagram stores that data\n",
    "\n",
    "3b) data like this is collected for companies like instagram to make money. they have systems that look at posts we've liked, and then that data helps them decide what to show us on our feed. assuming that the data is collected for them to make money off of advertisments, it seems like it would be less important to store data for things like when we like a friends post, and more important/significant for them store data about ads that we have liked. whenever i like an add for something, for the next week or so, that product or something similar to it comes up on my feed very often.\n",
    "\n",
    "3c) like i said before, this data is reliable for not only instagram but small companies to help them make their sales or accomplish whatever they are trying to sell. the data needs to be reliable for instagram so that they are showing you the right ads and content on your timeline.\n",
    "\n",
    "3d) the data instagram collected (we were apart of collecting it too) could be unrelaible in a few ways. maybe the fact that someone was on your phone and liked a post of an ad you wernt really interested in, maybe you share an account with someone who has different interests or you could just be someone who doesnt like many posts, so instagram isnt sure what kind of ads to present to you."
   ]
  },
  {
   "cell_type": "code",
   "execution_count": 59,
   "id": "3e82b675",
   "metadata": {},
   "outputs": [
    {
     "data": {
      "text/html": [
       "<div>\n",
       "<style scoped>\n",
       "    .dataframe tbody tr th:only-of-type {\n",
       "        vertical-align: middle;\n",
       "    }\n",
       "\n",
       "    .dataframe tbody tr th {\n",
       "        vertical-align: top;\n",
       "    }\n",
       "\n",
       "    .dataframe thead th {\n",
       "        text-align: right;\n",
       "    }\n",
       "</style>\n",
       "<table border=\"1\" class=\"dataframe\">\n",
       "  <thead>\n",
       "    <tr style=\"text-align: right;\">\n",
       "      <th></th>\n",
       "      <th>likes_media_likes</th>\n",
       "    </tr>\n",
       "  </thead>\n",
       "  <tbody>\n",
       "    <tr>\n",
       "      <th>0</th>\n",
       "      <td>{'title': 'kingjames', 'media_list_data': [], ...</td>\n",
       "    </tr>\n",
       "    <tr>\n",
       "      <th>1</th>\n",
       "      <td>{'title': 'igrumpycat', 'media_list_data': [],...</td>\n",
       "    </tr>\n",
       "    <tr>\n",
       "      <th>2</th>\n",
       "      <td>{'title': 'chrisbosh', 'media_list_data': [], ...</td>\n",
       "    </tr>\n",
       "    <tr>\n",
       "      <th>3</th>\n",
       "      <td>{'title': 'kingjames', 'media_list_data': [], ...</td>\n",
       "    </tr>\n",
       "    <tr>\n",
       "      <th>4</th>\n",
       "      <td>{'title': 'igrumpycat', 'media_list_data': [],...</td>\n",
       "    </tr>\n",
       "    <tr>\n",
       "      <th>...</th>\n",
       "      <td>...</td>\n",
       "    </tr>\n",
       "    <tr>\n",
       "      <th>30332</th>\n",
       "      <td>{'title': 'nathangerhart28', 'media_list_data'...</td>\n",
       "    </tr>\n",
       "    <tr>\n",
       "      <th>30333</th>\n",
       "      <td>{'title': 'danschillero', 'media_list_data': [...</td>\n",
       "    </tr>\n",
       "    <tr>\n",
       "      <th>30334</th>\n",
       "      <td>{'title': 'molly.curry1', 'media_list_data': [...</td>\n",
       "    </tr>\n",
       "    <tr>\n",
       "      <th>30335</th>\n",
       "      <td>{'title': 'steelersbyjoey', 'media_list_data':...</td>\n",
       "    </tr>\n",
       "    <tr>\n",
       "      <th>30336</th>\n",
       "      <td>{'title': 'resellingsecrets', 'media_list_data...</td>\n",
       "    </tr>\n",
       "  </tbody>\n",
       "</table>\n",
       "<p>30337 rows × 1 columns</p>\n",
       "</div>"
      ],
      "text/plain": [
       "                                       likes_media_likes\n",
       "0      {'title': 'kingjames', 'media_list_data': [], ...\n",
       "1      {'title': 'igrumpycat', 'media_list_data': [],...\n",
       "2      {'title': 'chrisbosh', 'media_list_data': [], ...\n",
       "3      {'title': 'kingjames', 'media_list_data': [], ...\n",
       "4      {'title': 'igrumpycat', 'media_list_data': [],...\n",
       "...                                                  ...\n",
       "30332  {'title': 'nathangerhart28', 'media_list_data'...\n",
       "30333  {'title': 'danschillero', 'media_list_data': [...\n",
       "30334  {'title': 'molly.curry1', 'media_list_data': [...\n",
       "30335  {'title': 'steelersbyjoey', 'media_list_data':...\n",
       "30336  {'title': 'resellingsecrets', 'media_list_data...\n",
       "\n",
       "[30337 rows x 1 columns]"
      ]
     },
     "execution_count": 59,
     "metadata": {},
     "output_type": "execute_result"
    }
   ],
   "source": [
    "like_df"
   ]
  },
  {
   "cell_type": "markdown",
   "id": "3d776c89",
   "metadata": {},
   "source": [
    "dig deeper into the array to access timestamp, title, etc"
   ]
  },
  {
   "cell_type": "code",
   "execution_count": 60,
   "id": "4b6da145",
   "metadata": {},
   "outputs": [],
   "source": [
    "test1 = pd.DataFrame(likes['likes_media_likes'])"
   ]
  },
  {
   "cell_type": "code",
   "execution_count": 61,
   "id": "48a1c809",
   "metadata": {},
   "outputs": [
    {
     "data": {
      "text/html": [
       "<div>\n",
       "<style scoped>\n",
       "    .dataframe tbody tr th:only-of-type {\n",
       "        vertical-align: middle;\n",
       "    }\n",
       "\n",
       "    .dataframe tbody tr th {\n",
       "        vertical-align: top;\n",
       "    }\n",
       "\n",
       "    .dataframe thead th {\n",
       "        text-align: right;\n",
       "    }\n",
       "</style>\n",
       "<table border=\"1\" class=\"dataframe\">\n",
       "  <thead>\n",
       "    <tr style=\"text-align: right;\">\n",
       "      <th></th>\n",
       "      <th>title</th>\n",
       "      <th>media_list_data</th>\n",
       "      <th>string_list_data</th>\n",
       "    </tr>\n",
       "  </thead>\n",
       "  <tbody>\n",
       "    <tr>\n",
       "      <th>0</th>\n",
       "      <td>kingjames</td>\n",
       "      <td>[]</td>\n",
       "      <td>[{'href': 'https://www.instagram.com/p/X9GaxRi...</td>\n",
       "    </tr>\n",
       "    <tr>\n",
       "      <th>1</th>\n",
       "      <td>igrumpycat</td>\n",
       "      <td>[]</td>\n",
       "      <td>[{'href': 'https://www.instagram.com/p/X94VyHm...</td>\n",
       "    </tr>\n",
       "    <tr>\n",
       "      <th>2</th>\n",
       "      <td>chrisbosh</td>\n",
       "      <td>[]</td>\n",
       "      <td>[{'href': 'https://www.instagram.com/p/X-SoU1M...</td>\n",
       "    </tr>\n",
       "    <tr>\n",
       "      <th>3</th>\n",
       "      <td>kingjames</td>\n",
       "      <td>[]</td>\n",
       "      <td>[{'href': 'https://www.instagram.com/p/X-U9KEC...</td>\n",
       "    </tr>\n",
       "    <tr>\n",
       "      <th>4</th>\n",
       "      <td>igrumpycat</td>\n",
       "      <td>[]</td>\n",
       "      <td>[{'href': 'https://www.instagram.com/p/YAa4N9m...</td>\n",
       "    </tr>\n",
       "    <tr>\n",
       "      <th>...</th>\n",
       "      <td>...</td>\n",
       "      <td>...</td>\n",
       "      <td>...</td>\n",
       "    </tr>\n",
       "    <tr>\n",
       "      <th>30332</th>\n",
       "      <td>nathangerhart28</td>\n",
       "      <td>[]</td>\n",
       "      <td>[{'href': 'https://www.instagram.com/p/ChgBeA2...</td>\n",
       "    </tr>\n",
       "    <tr>\n",
       "      <th>30333</th>\n",
       "      <td>danschillero</td>\n",
       "      <td>[]</td>\n",
       "      <td>[{'href': 'https://www.instagram.com/p/ChlQV0X...</td>\n",
       "    </tr>\n",
       "    <tr>\n",
       "      <th>30334</th>\n",
       "      <td>molly.curry1</td>\n",
       "      <td>[]</td>\n",
       "      <td>[{'href': 'https://www.instagram.com/p/ChlMdcS...</td>\n",
       "    </tr>\n",
       "    <tr>\n",
       "      <th>30335</th>\n",
       "      <td>steelersbyjoey</td>\n",
       "      <td>[]</td>\n",
       "      <td>[{'href': 'https://www.instagram.com/p/ChlMRtM...</td>\n",
       "    </tr>\n",
       "    <tr>\n",
       "      <th>30336</th>\n",
       "      <td>resellingsecrets</td>\n",
       "      <td>[]</td>\n",
       "      <td>[{'href': 'https://www.instagram.com/reel/Chku...</td>\n",
       "    </tr>\n",
       "  </tbody>\n",
       "</table>\n",
       "<p>30337 rows × 3 columns</p>\n",
       "</div>"
      ],
      "text/plain": [
       "                  title media_list_data  \\\n",
       "0             kingjames              []   \n",
       "1            igrumpycat              []   \n",
       "2             chrisbosh              []   \n",
       "3             kingjames              []   \n",
       "4            igrumpycat              []   \n",
       "...                 ...             ...   \n",
       "30332   nathangerhart28              []   \n",
       "30333      danschillero              []   \n",
       "30334      molly.curry1              []   \n",
       "30335    steelersbyjoey              []   \n",
       "30336  resellingsecrets              []   \n",
       "\n",
       "                                        string_list_data  \n",
       "0      [{'href': 'https://www.instagram.com/p/X9GaxRi...  \n",
       "1      [{'href': 'https://www.instagram.com/p/X94VyHm...  \n",
       "2      [{'href': 'https://www.instagram.com/p/X-SoU1M...  \n",
       "3      [{'href': 'https://www.instagram.com/p/X-U9KEC...  \n",
       "4      [{'href': 'https://www.instagram.com/p/YAa4N9m...  \n",
       "...                                                  ...  \n",
       "30332  [{'href': 'https://www.instagram.com/p/ChgBeA2...  \n",
       "30333  [{'href': 'https://www.instagram.com/p/ChlQV0X...  \n",
       "30334  [{'href': 'https://www.instagram.com/p/ChlMdcS...  \n",
       "30335  [{'href': 'https://www.instagram.com/p/ChlMRtM...  \n",
       "30336  [{'href': 'https://www.instagram.com/reel/Chku...  \n",
       "\n",
       "[30337 rows x 3 columns]"
      ]
     },
     "execution_count": 61,
     "metadata": {},
     "output_type": "execute_result"
    }
   ],
   "source": [
    "test1"
   ]
  },
  {
   "cell_type": "markdown",
   "id": "323ab92b",
   "metadata": {},
   "source": [
    "pull timestamp out of string list data array"
   ]
  },
  {
   "cell_type": "code",
   "execution_count": 62,
   "id": "42fedfc9",
   "metadata": {},
   "outputs": [],
   "source": [
    "test2 = [x[0]['timestamp'] for x in test1['string_list_data']]"
   ]
  },
  {
   "cell_type": "code",
   "execution_count": 63,
   "id": "da1f27f2",
   "metadata": {},
   "outputs": [
    {
     "data": {
      "text/plain": [
       "[1365871829,\n",
       " 1365871822,\n",
       " 1365871819,\n",
       " 1365871809,\n",
       " 1365871746,\n",
       " 1365871735,\n",
       " 1365552816,\n",
       " 1365552810,\n",
       " 1365552783,\n",
       " 1365199214]"
      ]
     },
     "execution_count": 63,
     "metadata": {},
     "output_type": "execute_result"
    }
   ],
   "source": [
    "test2\n",
    "test2[:10]"
   ]
  },
  {
   "cell_type": "markdown",
   "id": "d9ddad36",
   "metadata": {},
   "source": [
    "add timestamp to dataframe"
   ]
  },
  {
   "cell_type": "code",
   "execution_count": 64,
   "id": "3aa40d70",
   "metadata": {},
   "outputs": [],
   "source": [
    "likesv2 = pd.DataFrame(test2)"
   ]
  },
  {
   "cell_type": "code",
   "execution_count": 65,
   "id": "caf25a34",
   "metadata": {},
   "outputs": [
    {
     "data": {
      "text/html": [
       "<div>\n",
       "<style scoped>\n",
       "    .dataframe tbody tr th:only-of-type {\n",
       "        vertical-align: middle;\n",
       "    }\n",
       "\n",
       "    .dataframe tbody tr th {\n",
       "        vertical-align: top;\n",
       "    }\n",
       "\n",
       "    .dataframe thead th {\n",
       "        text-align: right;\n",
       "    }\n",
       "</style>\n",
       "<table border=\"1\" class=\"dataframe\">\n",
       "  <thead>\n",
       "    <tr style=\"text-align: right;\">\n",
       "      <th></th>\n",
       "      <th>0</th>\n",
       "    </tr>\n",
       "  </thead>\n",
       "  <tbody>\n",
       "    <tr>\n",
       "      <th>0</th>\n",
       "      <td>1365871829</td>\n",
       "    </tr>\n",
       "    <tr>\n",
       "      <th>1</th>\n",
       "      <td>1365871822</td>\n",
       "    </tr>\n",
       "    <tr>\n",
       "      <th>2</th>\n",
       "      <td>1365871819</td>\n",
       "    </tr>\n",
       "    <tr>\n",
       "      <th>3</th>\n",
       "      <td>1365871809</td>\n",
       "    </tr>\n",
       "    <tr>\n",
       "      <th>4</th>\n",
       "      <td>1365871746</td>\n",
       "    </tr>\n",
       "    <tr>\n",
       "      <th>...</th>\n",
       "      <td>...</td>\n",
       "    </tr>\n",
       "    <tr>\n",
       "      <th>30332</th>\n",
       "      <td>1661218272</td>\n",
       "    </tr>\n",
       "    <tr>\n",
       "      <th>30333</th>\n",
       "      <td>1661216949</td>\n",
       "    </tr>\n",
       "    <tr>\n",
       "      <th>30334</th>\n",
       "      <td>1661214549</td>\n",
       "    </tr>\n",
       "    <tr>\n",
       "      <th>30335</th>\n",
       "      <td>1661214535</td>\n",
       "    </tr>\n",
       "    <tr>\n",
       "      <th>30336</th>\n",
       "      <td>1661210050</td>\n",
       "    </tr>\n",
       "  </tbody>\n",
       "</table>\n",
       "<p>30337 rows × 1 columns</p>\n",
       "</div>"
      ],
      "text/plain": [
       "                0\n",
       "0      1365871829\n",
       "1      1365871822\n",
       "2      1365871819\n",
       "3      1365871809\n",
       "4      1365871746\n",
       "...           ...\n",
       "30332  1661218272\n",
       "30333  1661216949\n",
       "30334  1661214549\n",
       "30335  1661214535\n",
       "30336  1661210050\n",
       "\n",
       "[30337 rows x 1 columns]"
      ]
     },
     "execution_count": 65,
     "metadata": {},
     "output_type": "execute_result"
    }
   ],
   "source": [
    "likesv2"
   ]
  },
  {
   "cell_type": "code",
   "execution_count": 66,
   "id": "87c1dda0",
   "metadata": {},
   "outputs": [],
   "source": [
    "test1['timestamp'] = test2"
   ]
  },
  {
   "cell_type": "markdown",
   "id": "44137314",
   "metadata": {},
   "source": [
    "timestamp is now apart of dataframe"
   ]
  },
  {
   "cell_type": "code",
   "execution_count": 67,
   "id": "6da39c03",
   "metadata": {
    "scrolled": true
   },
   "outputs": [
    {
     "data": {
      "text/html": [
       "<div>\n",
       "<style scoped>\n",
       "    .dataframe tbody tr th:only-of-type {\n",
       "        vertical-align: middle;\n",
       "    }\n",
       "\n",
       "    .dataframe tbody tr th {\n",
       "        vertical-align: top;\n",
       "    }\n",
       "\n",
       "    .dataframe thead th {\n",
       "        text-align: right;\n",
       "    }\n",
       "</style>\n",
       "<table border=\"1\" class=\"dataframe\">\n",
       "  <thead>\n",
       "    <tr style=\"text-align: right;\">\n",
       "      <th></th>\n",
       "      <th>title</th>\n",
       "      <th>media_list_data</th>\n",
       "      <th>string_list_data</th>\n",
       "      <th>timestamp</th>\n",
       "    </tr>\n",
       "  </thead>\n",
       "  <tbody>\n",
       "    <tr>\n",
       "      <th>0</th>\n",
       "      <td>kingjames</td>\n",
       "      <td>[]</td>\n",
       "      <td>[{'href': 'https://www.instagram.com/p/X9GaxRi...</td>\n",
       "      <td>1365871829</td>\n",
       "    </tr>\n",
       "    <tr>\n",
       "      <th>1</th>\n",
       "      <td>igrumpycat</td>\n",
       "      <td>[]</td>\n",
       "      <td>[{'href': 'https://www.instagram.com/p/X94VyHm...</td>\n",
       "      <td>1365871822</td>\n",
       "    </tr>\n",
       "    <tr>\n",
       "      <th>2</th>\n",
       "      <td>chrisbosh</td>\n",
       "      <td>[]</td>\n",
       "      <td>[{'href': 'https://www.instagram.com/p/X-SoU1M...</td>\n",
       "      <td>1365871819</td>\n",
       "    </tr>\n",
       "    <tr>\n",
       "      <th>3</th>\n",
       "      <td>kingjames</td>\n",
       "      <td>[]</td>\n",
       "      <td>[{'href': 'https://www.instagram.com/p/X-U9KEC...</td>\n",
       "      <td>1365871809</td>\n",
       "    </tr>\n",
       "    <tr>\n",
       "      <th>4</th>\n",
       "      <td>igrumpycat</td>\n",
       "      <td>[]</td>\n",
       "      <td>[{'href': 'https://www.instagram.com/p/YAa4N9m...</td>\n",
       "      <td>1365871746</td>\n",
       "    </tr>\n",
       "    <tr>\n",
       "      <th>...</th>\n",
       "      <td>...</td>\n",
       "      <td>...</td>\n",
       "      <td>...</td>\n",
       "      <td>...</td>\n",
       "    </tr>\n",
       "    <tr>\n",
       "      <th>30332</th>\n",
       "      <td>nathangerhart28</td>\n",
       "      <td>[]</td>\n",
       "      <td>[{'href': 'https://www.instagram.com/p/ChgBeA2...</td>\n",
       "      <td>1661218272</td>\n",
       "    </tr>\n",
       "    <tr>\n",
       "      <th>30333</th>\n",
       "      <td>danschillero</td>\n",
       "      <td>[]</td>\n",
       "      <td>[{'href': 'https://www.instagram.com/p/ChlQV0X...</td>\n",
       "      <td>1661216949</td>\n",
       "    </tr>\n",
       "    <tr>\n",
       "      <th>30334</th>\n",
       "      <td>molly.curry1</td>\n",
       "      <td>[]</td>\n",
       "      <td>[{'href': 'https://www.instagram.com/p/ChlMdcS...</td>\n",
       "      <td>1661214549</td>\n",
       "    </tr>\n",
       "    <tr>\n",
       "      <th>30335</th>\n",
       "      <td>steelersbyjoey</td>\n",
       "      <td>[]</td>\n",
       "      <td>[{'href': 'https://www.instagram.com/p/ChlMRtM...</td>\n",
       "      <td>1661214535</td>\n",
       "    </tr>\n",
       "    <tr>\n",
       "      <th>30336</th>\n",
       "      <td>resellingsecrets</td>\n",
       "      <td>[]</td>\n",
       "      <td>[{'href': 'https://www.instagram.com/reel/Chku...</td>\n",
       "      <td>1661210050</td>\n",
       "    </tr>\n",
       "  </tbody>\n",
       "</table>\n",
       "<p>30337 rows × 4 columns</p>\n",
       "</div>"
      ],
      "text/plain": [
       "                  title media_list_data  \\\n",
       "0             kingjames              []   \n",
       "1            igrumpycat              []   \n",
       "2             chrisbosh              []   \n",
       "3             kingjames              []   \n",
       "4            igrumpycat              []   \n",
       "...                 ...             ...   \n",
       "30332   nathangerhart28              []   \n",
       "30333      danschillero              []   \n",
       "30334      molly.curry1              []   \n",
       "30335    steelersbyjoey              []   \n",
       "30336  resellingsecrets              []   \n",
       "\n",
       "                                        string_list_data   timestamp  \n",
       "0      [{'href': 'https://www.instagram.com/p/X9GaxRi...  1365871829  \n",
       "1      [{'href': 'https://www.instagram.com/p/X94VyHm...  1365871822  \n",
       "2      [{'href': 'https://www.instagram.com/p/X-SoU1M...  1365871819  \n",
       "3      [{'href': 'https://www.instagram.com/p/X-U9KEC...  1365871809  \n",
       "4      [{'href': 'https://www.instagram.com/p/YAa4N9m...  1365871746  \n",
       "...                                                  ...         ...  \n",
       "30332  [{'href': 'https://www.instagram.com/p/ChgBeA2...  1661218272  \n",
       "30333  [{'href': 'https://www.instagram.com/p/ChlQV0X...  1661216949  \n",
       "30334  [{'href': 'https://www.instagram.com/p/ChlMdcS...  1661214549  \n",
       "30335  [{'href': 'https://www.instagram.com/p/ChlMRtM...  1661214535  \n",
       "30336  [{'href': 'https://www.instagram.com/reel/Chku...  1661210050  \n",
       "\n",
       "[30337 rows x 4 columns]"
      ]
     },
     "execution_count": 67,
     "metadata": {},
     "output_type": "execute_result"
    }
   ],
   "source": [
    "test1"
   ]
  },
  {
   "cell_type": "markdown",
   "id": "e0224178",
   "metadata": {},
   "source": [
    "next 3 cells are testing to try and pull account title out of the array"
   ]
  },
  {
   "cell_type": "code",
   "execution_count": 68,
   "id": "84b750d9",
   "metadata": {
    "scrolled": false
   },
   "outputs": [
    {
     "data": {
      "text/plain": [
       "[{'href': 'https://www.instagram.com/p/X9GaxRiTBR/',\n",
       "  'value': 'ð\\x9f\\x91\\x8d',\n",
       "  'timestamp': 1365871829}]"
      ]
     },
     "execution_count": 68,
     "metadata": {},
     "output_type": "execute_result"
    }
   ],
   "source": [
    "test1['string_list_data'][0]"
   ]
  },
  {
   "cell_type": "code",
   "execution_count": 69,
   "id": "b27cf903",
   "metadata": {
    "scrolled": true
   },
   "outputs": [
    {
     "data": {
      "text/plain": [
       "{'href': 'https://www.instagram.com/p/X9GaxRiTBR/',\n",
       " 'value': 'ð\\x9f\\x91\\x8d',\n",
       " 'timestamp': 1365871829}"
      ]
     },
     "execution_count": 69,
     "metadata": {},
     "output_type": "execute_result"
    }
   ],
   "source": [
    "test1['string_list_data'][0][0]"
   ]
  },
  {
   "cell_type": "code",
   "execution_count": 70,
   "id": "396bdb8d",
   "metadata": {
    "scrolled": true
   },
   "outputs": [
    {
     "data": {
      "text/plain": [
       "0               kingjames\n",
       "1              igrumpycat\n",
       "2               chrisbosh\n",
       "3               kingjames\n",
       "4              igrumpycat\n",
       "               ...       \n",
       "30332     nathangerhart28\n",
       "30333        danschillero\n",
       "30334        molly.curry1\n",
       "30335      steelersbyjoey\n",
       "30336    resellingsecrets\n",
       "Name: title, Length: 30337, dtype: object"
      ]
     },
     "execution_count": 70,
     "metadata": {},
     "output_type": "execute_result"
    }
   ],
   "source": [
    "test1['title']"
   ]
  },
  {
   "cell_type": "markdown",
   "id": "95251cce",
   "metadata": {},
   "source": [
    "the 3 previous cells were tests to try and pull out just the title of the accounts liked"
   ]
  },
  {
   "cell_type": "markdown",
   "id": "e5f6221b",
   "metadata": {},
   "source": [
    "pulling title out of array"
   ]
  },
  {
   "cell_type": "code",
   "execution_count": 71,
   "id": "864842ee",
   "metadata": {},
   "outputs": [],
   "source": [
    "test3 = [x for x in test1['title']]"
   ]
  },
  {
   "cell_type": "code",
   "execution_count": 72,
   "id": "dba07c94",
   "metadata": {},
   "outputs": [
    {
     "data": {
      "text/plain": [
       "['kingjames',\n",
       " 'igrumpycat',\n",
       " 'chrisbosh',\n",
       " 'kingjames',\n",
       " 'igrumpycat',\n",
       " 'igrumpycat',\n",
       " 'igrumpycat',\n",
       " 'igrumpycat',\n",
       " 'kingjames',\n",
       " 'q_u_i_n_n_5']"
      ]
     },
     "execution_count": 72,
     "metadata": {},
     "output_type": "execute_result"
    }
   ],
   "source": [
    "test3\n",
    "test3[:10]"
   ]
  },
  {
   "cell_type": "markdown",
   "id": "d6e78e4c",
   "metadata": {},
   "source": [
    "dropping media_list_data since it is an empty array"
   ]
  },
  {
   "cell_type": "code",
   "execution_count": 73,
   "id": "923a9f24",
   "metadata": {},
   "outputs": [],
   "source": [
    "final_df = test1.drop('media_list_data', axis = 1)"
   ]
  },
  {
   "cell_type": "code",
   "execution_count": 74,
   "id": "bf5418ab",
   "metadata": {},
   "outputs": [
    {
     "data": {
      "text/html": [
       "<div>\n",
       "<style scoped>\n",
       "    .dataframe tbody tr th:only-of-type {\n",
       "        vertical-align: middle;\n",
       "    }\n",
       "\n",
       "    .dataframe tbody tr th {\n",
       "        vertical-align: top;\n",
       "    }\n",
       "\n",
       "    .dataframe thead th {\n",
       "        text-align: right;\n",
       "    }\n",
       "</style>\n",
       "<table border=\"1\" class=\"dataframe\">\n",
       "  <thead>\n",
       "    <tr style=\"text-align: right;\">\n",
       "      <th></th>\n",
       "      <th>title</th>\n",
       "      <th>string_list_data</th>\n",
       "      <th>timestamp</th>\n",
       "    </tr>\n",
       "  </thead>\n",
       "  <tbody>\n",
       "    <tr>\n",
       "      <th>0</th>\n",
       "      <td>kingjames</td>\n",
       "      <td>[{'href': 'https://www.instagram.com/p/X9GaxRi...</td>\n",
       "      <td>1365871829</td>\n",
       "    </tr>\n",
       "    <tr>\n",
       "      <th>1</th>\n",
       "      <td>igrumpycat</td>\n",
       "      <td>[{'href': 'https://www.instagram.com/p/X94VyHm...</td>\n",
       "      <td>1365871822</td>\n",
       "    </tr>\n",
       "    <tr>\n",
       "      <th>2</th>\n",
       "      <td>chrisbosh</td>\n",
       "      <td>[{'href': 'https://www.instagram.com/p/X-SoU1M...</td>\n",
       "      <td>1365871819</td>\n",
       "    </tr>\n",
       "    <tr>\n",
       "      <th>3</th>\n",
       "      <td>kingjames</td>\n",
       "      <td>[{'href': 'https://www.instagram.com/p/X-U9KEC...</td>\n",
       "      <td>1365871809</td>\n",
       "    </tr>\n",
       "    <tr>\n",
       "      <th>4</th>\n",
       "      <td>igrumpycat</td>\n",
       "      <td>[{'href': 'https://www.instagram.com/p/YAa4N9m...</td>\n",
       "      <td>1365871746</td>\n",
       "    </tr>\n",
       "    <tr>\n",
       "      <th>...</th>\n",
       "      <td>...</td>\n",
       "      <td>...</td>\n",
       "      <td>...</td>\n",
       "    </tr>\n",
       "    <tr>\n",
       "      <th>30332</th>\n",
       "      <td>nathangerhart28</td>\n",
       "      <td>[{'href': 'https://www.instagram.com/p/ChgBeA2...</td>\n",
       "      <td>1661218272</td>\n",
       "    </tr>\n",
       "    <tr>\n",
       "      <th>30333</th>\n",
       "      <td>danschillero</td>\n",
       "      <td>[{'href': 'https://www.instagram.com/p/ChlQV0X...</td>\n",
       "      <td>1661216949</td>\n",
       "    </tr>\n",
       "    <tr>\n",
       "      <th>30334</th>\n",
       "      <td>molly.curry1</td>\n",
       "      <td>[{'href': 'https://www.instagram.com/p/ChlMdcS...</td>\n",
       "      <td>1661214549</td>\n",
       "    </tr>\n",
       "    <tr>\n",
       "      <th>30335</th>\n",
       "      <td>steelersbyjoey</td>\n",
       "      <td>[{'href': 'https://www.instagram.com/p/ChlMRtM...</td>\n",
       "      <td>1661214535</td>\n",
       "    </tr>\n",
       "    <tr>\n",
       "      <th>30336</th>\n",
       "      <td>resellingsecrets</td>\n",
       "      <td>[{'href': 'https://www.instagram.com/reel/Chku...</td>\n",
       "      <td>1661210050</td>\n",
       "    </tr>\n",
       "  </tbody>\n",
       "</table>\n",
       "<p>30337 rows × 3 columns</p>\n",
       "</div>"
      ],
      "text/plain": [
       "                  title                                   string_list_data  \\\n",
       "0             kingjames  [{'href': 'https://www.instagram.com/p/X9GaxRi...   \n",
       "1            igrumpycat  [{'href': 'https://www.instagram.com/p/X94VyHm...   \n",
       "2             chrisbosh  [{'href': 'https://www.instagram.com/p/X-SoU1M...   \n",
       "3             kingjames  [{'href': 'https://www.instagram.com/p/X-U9KEC...   \n",
       "4            igrumpycat  [{'href': 'https://www.instagram.com/p/YAa4N9m...   \n",
       "...                 ...                                                ...   \n",
       "30332   nathangerhart28  [{'href': 'https://www.instagram.com/p/ChgBeA2...   \n",
       "30333      danschillero  [{'href': 'https://www.instagram.com/p/ChlQV0X...   \n",
       "30334      molly.curry1  [{'href': 'https://www.instagram.com/p/ChlMdcS...   \n",
       "30335    steelersbyjoey  [{'href': 'https://www.instagram.com/p/ChlMRtM...   \n",
       "30336  resellingsecrets  [{'href': 'https://www.instagram.com/reel/Chku...   \n",
       "\n",
       "        timestamp  \n",
       "0      1365871829  \n",
       "1      1365871822  \n",
       "2      1365871819  \n",
       "3      1365871809  \n",
       "4      1365871746  \n",
       "...           ...  \n",
       "30332  1661218272  \n",
       "30333  1661216949  \n",
       "30334  1661214549  \n",
       "30335  1661214535  \n",
       "30336  1661210050  \n",
       "\n",
       "[30337 rows x 3 columns]"
      ]
     },
     "execution_count": 74,
     "metadata": {},
     "output_type": "execute_result"
    }
   ],
   "source": [
    "final_df"
   ]
  },
  {
   "cell_type": "code",
   "execution_count": 75,
   "id": "0aff7ed9",
   "metadata": {
    "scrolled": true
   },
   "outputs": [
    {
     "data": {
      "text/html": [
       "<div>\n",
       "<style scoped>\n",
       "    .dataframe tbody tr th:only-of-type {\n",
       "        vertical-align: middle;\n",
       "    }\n",
       "\n",
       "    .dataframe tbody tr th {\n",
       "        vertical-align: top;\n",
       "    }\n",
       "\n",
       "    .dataframe thead th {\n",
       "        text-align: right;\n",
       "    }\n",
       "</style>\n",
       "<table border=\"1\" class=\"dataframe\">\n",
       "  <thead>\n",
       "    <tr style=\"text-align: right;\">\n",
       "      <th></th>\n",
       "      <th>string_list_data</th>\n",
       "      <th>timestamp</th>\n",
       "    </tr>\n",
       "    <tr>\n",
       "      <th>title</th>\n",
       "      <th></th>\n",
       "      <th></th>\n",
       "    </tr>\n",
       "  </thead>\n",
       "  <tbody>\n",
       "    <tr>\n",
       "      <th>cavs</th>\n",
       "      <td>3054</td>\n",
       "      <td>3054</td>\n",
       "    </tr>\n",
       "    <tr>\n",
       "      <th>nba</th>\n",
       "      <td>2783</td>\n",
       "      <td>2783</td>\n",
       "    </tr>\n",
       "    <tr>\n",
       "      <th>steelers</th>\n",
       "      <td>2070</td>\n",
       "      <td>2070</td>\n",
       "    </tr>\n",
       "    <tr>\n",
       "      <th>daquan</th>\n",
       "      <td>1786</td>\n",
       "      <td>1786</td>\n",
       "    </tr>\n",
       "    <tr>\n",
       "      <th>cleguardians</th>\n",
       "      <td>1378</td>\n",
       "      <td>1378</td>\n",
       "    </tr>\n",
       "    <tr>\n",
       "      <th>...</th>\n",
       "      <td>...</td>\n",
       "      <td>...</td>\n",
       "    </tr>\n",
       "    <tr>\n",
       "      <th>hoops_.life</th>\n",
       "      <td>1</td>\n",
       "      <td>1</td>\n",
       "    </tr>\n",
       "    <tr>\n",
       "      <th>hoopgame</th>\n",
       "      <td>1</td>\n",
       "      <td>1</td>\n",
       "    </tr>\n",
       "    <tr>\n",
       "      <th>hoop_reels</th>\n",
       "      <td>1</td>\n",
       "      <td>1</td>\n",
       "    </tr>\n",
       "    <tr>\n",
       "      <th>hoop.show</th>\n",
       "      <td>1</td>\n",
       "      <td>1</td>\n",
       "    </tr>\n",
       "    <tr>\n",
       "      <th>zupless</th>\n",
       "      <td>1</td>\n",
       "      <td>1</td>\n",
       "    </tr>\n",
       "  </tbody>\n",
       "</table>\n",
       "<p>2464 rows × 2 columns</p>\n",
       "</div>"
      ],
      "text/plain": [
       "              string_list_data  timestamp\n",
       "title                                    \n",
       "cavs                      3054       3054\n",
       "nba                       2783       2783\n",
       "steelers                  2070       2070\n",
       "daquan                    1786       1786\n",
       "cleguardians              1378       1378\n",
       "...                        ...        ...\n",
       "hoops_.life                  1          1\n",
       "hoopgame                     1          1\n",
       "hoop_reels                   1          1\n",
       "hoop.show                    1          1\n",
       "zupless                      1          1\n",
       "\n",
       "[2464 rows x 2 columns]"
      ]
     },
     "execution_count": 75,
     "metadata": {},
     "output_type": "execute_result"
    }
   ],
   "source": [
    "final_df.groupby('title').count().sort_values('timestamp', ascending=False)"
   ]
  },
  {
   "cell_type": "markdown",
   "id": "a4047720",
   "metadata": {},
   "source": [
    "in the cell above for my final dataframe, i could not figure out how to get the groupby and count function to display the entire df"
   ]
  },
  {
   "cell_type": "code",
   "execution_count": 76,
   "id": "f389984a",
   "metadata": {},
   "outputs": [],
   "source": [
    "finaldf2 = final_df.groupby('title').count().sort_values('timestamp', ascending=False)"
   ]
  },
  {
   "cell_type": "markdown",
   "id": "53961125",
   "metadata": {},
   "source": [
    "final dataframe is below, starting with the accounts liked the least amount of times, and last being the account that has been liked the most"
   ]
  },
  {
   "cell_type": "code",
   "execution_count": 77,
   "id": "913d59c4",
   "metadata": {},
   "outputs": [
    {
     "data": {
      "text/html": [
       "<div>\n",
       "<style scoped>\n",
       "    .dataframe tbody tr th:only-of-type {\n",
       "        vertical-align: middle;\n",
       "    }\n",
       "\n",
       "    .dataframe tbody tr th {\n",
       "        vertical-align: top;\n",
       "    }\n",
       "\n",
       "    .dataframe thead th {\n",
       "        text-align: right;\n",
       "    }\n",
       "</style>\n",
       "<table border=\"1\" class=\"dataframe\">\n",
       "  <thead>\n",
       "    <tr style=\"text-align: right;\">\n",
       "      <th></th>\n",
       "      <th>string_list_data</th>\n",
       "      <th>timestamp</th>\n",
       "    </tr>\n",
       "    <tr>\n",
       "      <th>title</th>\n",
       "      <th></th>\n",
       "      <th></th>\n",
       "    </tr>\n",
       "  </thead>\n",
       "  <tbody>\n",
       "    <tr>\n",
       "      <th>cavs</th>\n",
       "      <td>3054</td>\n",
       "      <td>3054</td>\n",
       "    </tr>\n",
       "    <tr>\n",
       "      <th>nba</th>\n",
       "      <td>2783</td>\n",
       "      <td>2783</td>\n",
       "    </tr>\n",
       "    <tr>\n",
       "      <th>steelers</th>\n",
       "      <td>2070</td>\n",
       "      <td>2070</td>\n",
       "    </tr>\n",
       "    <tr>\n",
       "      <th>daquan</th>\n",
       "      <td>1786</td>\n",
       "      <td>1786</td>\n",
       "    </tr>\n",
       "    <tr>\n",
       "      <th>cleguardians</th>\n",
       "      <td>1378</td>\n",
       "      <td>1378</td>\n",
       "    </tr>\n",
       "    <tr>\n",
       "      <th>...</th>\n",
       "      <td>...</td>\n",
       "      <td>...</td>\n",
       "    </tr>\n",
       "    <tr>\n",
       "      <th>hoops_.life</th>\n",
       "      <td>1</td>\n",
       "      <td>1</td>\n",
       "    </tr>\n",
       "    <tr>\n",
       "      <th>hoopgame</th>\n",
       "      <td>1</td>\n",
       "      <td>1</td>\n",
       "    </tr>\n",
       "    <tr>\n",
       "      <th>hoop_reels</th>\n",
       "      <td>1</td>\n",
       "      <td>1</td>\n",
       "    </tr>\n",
       "    <tr>\n",
       "      <th>hoop.show</th>\n",
       "      <td>1</td>\n",
       "      <td>1</td>\n",
       "    </tr>\n",
       "    <tr>\n",
       "      <th>zupless</th>\n",
       "      <td>1</td>\n",
       "      <td>1</td>\n",
       "    </tr>\n",
       "  </tbody>\n",
       "</table>\n",
       "<p>2464 rows × 2 columns</p>\n",
       "</div>"
      ],
      "text/plain": [
       "              string_list_data  timestamp\n",
       "title                                    \n",
       "cavs                      3054       3054\n",
       "nba                       2783       2783\n",
       "steelers                  2070       2070\n",
       "daquan                    1786       1786\n",
       "cleguardians              1378       1378\n",
       "...                        ...        ...\n",
       "hoops_.life                  1          1\n",
       "hoopgame                     1          1\n",
       "hoop_reels                   1          1\n",
       "hoop.show                    1          1\n",
       "zupless                      1          1\n",
       "\n",
       "[2464 rows x 2 columns]"
      ]
     },
     "execution_count": 77,
     "metadata": {},
     "output_type": "execute_result"
    }
   ],
   "source": [
    "finaldf2"
   ]
  },
  {
   "cell_type": "markdown",
   "id": "26234230",
   "metadata": {},
   "source": [
    "#### Joshua Malone Likes Report 9/20/22\n",
    "\n",
    "The 5 tasks are all listed above throughout the analysis. \n",
    "\n",
    "The structure of the data that was used was pulled from the json file, and the needed strings were inside of 2 different arrays, being 'likes_media_likes' (which was the parent array), and 'string_list_data'.\n",
    "You can see the data table that lists the accounts, and how many times the user (my account) has liked a posy of any given account.\n",
    "\n",
    "In conclusion, my hypothesis was correct for the most part. the account run by a team that post the most amount of times were the accounts like the most, however, the stastical hypothesis was off, being that the account with the most likes was in the 3000's, not around 1000. So the smaller accounts, which could be accounts with owners like ourselves who have smaller accounts, had the smaller amount of likes, and the accounts with bigger followings and more posts had the most. The more an account posts, the greater the number of likes was. \n",
    "\n",
    "Next steps could be truly seeing how the number of posts an account has coorelates with how many times the user has liked a post from that account, to understand if the statement saying that the account with the most posts, are the account that has been liked the  most amount of times. "
   ]
  }
 ],
 "metadata": {
  "kernelspec": {
   "display_name": "Python 3 (ipykernel)",
   "language": "python",
   "name": "python3"
  },
  "language_info": {
   "codemirror_mode": {
    "name": "ipython",
    "version": 3
   },
   "file_extension": ".py",
   "mimetype": "text/x-python",
   "name": "python",
   "nbconvert_exporter": "python",
   "pygments_lexer": "ipython3",
   "version": "3.9.12"
  }
 },
 "nbformat": 4,
 "nbformat_minor": 5
}
