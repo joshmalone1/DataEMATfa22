{
 "cells": [
  {
   "cell_type": "markdown",
   "id": "ced1d4ca",
   "metadata": {},
   "source": [
    "# Systems Check Assignment"
   ]
  },
  {
   "cell_type": "markdown",
   "id": "2ed545c5",
   "metadata": {},
   "source": [
    "### Josh Malone"
   ]
  },
  {
   "cell_type": "markdown",
   "id": "53b8bfd1",
   "metadata": {},
   "source": [
    "**I hope to see if I am potentially interested in data analytics and maybe go into that as a career, right now I think I am between either wed development or data analytics, so I'm hoping this class can help me pick**"
   ]
  },
  {
   "cell_type": "markdown",
   "id": "5f3cb54e",
   "metadata": {},
   "source": [
    "- Data Analytics\n",
    "- Web design and development"
   ]
  },
  {
   "cell_type": "code",
   "execution_count": 2,
   "id": "2fcee7a8",
   "metadata": {},
   "outputs": [
    {
     "name": "stdout",
     "output_type": "stream",
     "text": [
      "1\n",
      "2\n",
      "3\n",
      "4\n"
     ]
    }
   ],
   "source": [
    "for i in [1,2,3,4]:\n",
    "    print (i)"
   ]
  },
  {
   "cell_type": "code",
   "execution_count": 4,
   "id": "b968737a",
   "metadata": {},
   "outputs": [
    {
     "name": "stdout",
     "output_type": "stream",
     "text": [
      "Josh Malone\n"
     ]
    }
   ],
   "source": [
    "x = \"Josh Malone\"\n",
    "print(x)"
   ]
  },
  {
   "cell_type": "code",
   "execution_count": 5,
   "id": "2251e723",
   "metadata": {},
   "outputs": [],
   "source": [
    "def names (x):\n",
    "    return(x)"
   ]
  },
  {
   "cell_type": "code",
   "execution_count": 6,
   "id": "5140dcc4",
   "metadata": {},
   "outputs": [
    {
     "name": "stdout",
     "output_type": "stream",
     "text": [
      "Josh\n"
     ]
    }
   ],
   "source": [
    "y = names(\"Josh\")\n",
    "print(y)"
   ]
  },
  {
   "cell_type": "code",
   "execution_count": null,
   "id": "585cb78f",
   "metadata": {},
   "outputs": [],
   "source": []
  }
 ],
 "metadata": {
  "kernelspec": {
   "display_name": "Python 3 (ipykernel)",
   "language": "python",
   "name": "python3"
  },
  "language_info": {
   "codemirror_mode": {
    "name": "ipython",
    "version": 3
   },
   "file_extension": ".py",
   "mimetype": "text/x-python",
   "name": "python",
   "nbconvert_exporter": "python",
   "pygments_lexer": "ipython3",
   "version": "3.10.4"
  }
 },
 "nbformat": 4,
 "nbformat_minor": 5
}
