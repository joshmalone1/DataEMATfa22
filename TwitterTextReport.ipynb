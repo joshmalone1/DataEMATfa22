{
 "cells": [
  {
   "cell_type": "markdown",
   "id": "ee859abd",
   "metadata": {},
   "source": [
    "# Twitter Text Report\n",
    "#### Joshua Malone"
   ]
  },
  {
   "cell_type": "markdown",
   "id": "6529c138",
   "metadata": {},
   "source": [
    "#### The Cleveland Cavaliers recently started their season on Wednesday, October 19th, and as well as had their home opener on Sunday October 23rd. With big expectations this season for the team, my goal is to observe what people are saying about the cavs after their 2-1 start to the season, but more specifically look at where people are tweeting about them from. With so many ways to watch games nowadays, people can watch from anywhere, and not just in their local market, so my goal is to find out if the majority of the people tweeting about the Cavs are from the greater Cleveland area, or from fans all across the country. Recently the Cavs have played the Washington Wizards, Chicago Bulls, and upcoming the Orlando Magic, so besides Cleveland, i expect those 3 cities to be the highest in tweets about the Cavs."
   ]
  },
  {
   "cell_type": "code",
   "execution_count": 45,
   "id": "2011f7fd",
   "metadata": {},
   "outputs": [],
   "source": [
    "import pandas as pd\n",
    "import json\n",
    "import requests\n",
    "import urllib"
   ]
  },
  {
   "cell_type": "code",
   "execution_count": 46,
   "id": "2b798a9d",
   "metadata": {},
   "outputs": [],
   "source": [
    "bearer_token = pd.read_csv(\"Twitter_token_9-22.txt\", header = 0)"
   ]
  },
  {
   "cell_type": "code",
   "execution_count": 47,
   "id": "fd992702",
   "metadata": {},
   "outputs": [
    {
     "data": {
      "text/plain": [
       "'AAAAAAAAAAAAAAAAAAAAAEgIhAEAAAAAoMBdF0ktPf8mblPwPaRJ8U23ZPE%3DTXIZQHLnHZuySkMjGjzlybC08OAQGb4B2Yt7IHpbMKTbI9Kda4'"
      ]
     },
     "execution_count": 47,
     "metadata": {},
     "output_type": "execute_result"
    }
   ],
   "source": [
    "bearer_token['Bearer_Token'].iloc[0]"
   ]
  },
  {
   "cell_type": "code",
   "execution_count": 48,
   "id": "e5e0ef05",
   "metadata": {},
   "outputs": [],
   "source": [
    "header = {'Authorization':'Bearer {}'.format(bearer_token['Bearer_Token'].iloc[0])}"
   ]
  },
  {
   "cell_type": "code",
   "execution_count": 49,
   "id": "9075f8b7",
   "metadata": {},
   "outputs": [],
   "source": [
    "endpoint = 'https://api.twitter.com/2/tweets/search/recent'"
   ]
  },
  {
   "cell_type": "markdown",
   "id": "45f1a154",
   "metadata": {},
   "source": [
    "#### Below, I am creating a query that will search for cavs related content. I have names of players, team nicknames and names of the teams the Cavs have recently played. Additionally, after I used the query the first time, there was a lot of adidas related content because of what is going on with they brand and certain celeberties right now, so I excluded anything adidas related since it was overwhelming."
   ]
  },
  {
   "cell_type": "code",
   "execution_count": 50,
   "id": "2afd5175",
   "metadata": {},
   "outputs": [],
   "source": [
    "query_param = urllib.parse.quote('cleveland (cavs OR cavaliers OR preseason OR nba) (cavs OR evanmobley OR daruisgarland OR isaacokoro OR jarrettallen OR nbacavs OR donovanmitchell OR cavswizards OR cavsmagic OR cavsbulls) lang:en -adidas -@adidas -#adidas -is:retweet')"
   ]
  },
  {
   "cell_type": "markdown",
   "id": "bd78fef8",
   "metadata": {},
   "source": [
    "#### In the following 4 cells, I am using parameters to get the information about the tweets I want. This will include location that the user lists (if provided), the amount of retweets, likes, etc, when the tweet was created, and the username of the user that tweeted."
   ]
  },
  {
   "cell_type": "code",
   "execution_count": 51,
   "id": "92bbd38f",
   "metadata": {},
   "outputs": [],
   "source": [
    "expansions = 'author_id'"
   ]
  },
  {
   "cell_type": "code",
   "execution_count": 52,
   "id": "695d77b1",
   "metadata": {},
   "outputs": [],
   "source": [
    "user_fields = 'username,location'"
   ]
  },
  {
   "cell_type": "code",
   "execution_count": 53,
   "id": "025b9849",
   "metadata": {},
   "outputs": [],
   "source": [
    "tweet_fields = 'public_metrics,created_at'"
   ]
  },
  {
   "cell_type": "code",
   "execution_count": 54,
   "id": "44aecb93",
   "metadata": {
    "scrolled": true
   },
   "outputs": [],
   "source": [
    "query_url = endpoint + '?query={}&tweet.fields={}&expansions={}&user.fields={}&max_results=100'.format(query_param, tweet_fields, expansions, user_fields)"
   ]
  },
  {
   "cell_type": "markdown",
   "id": "05f406df",
   "metadata": {},
   "source": [
    "#### Generating the URL to search"
   ]
  },
  {
   "cell_type": "code",
   "execution_count": 55,
   "id": "eadca367",
   "metadata": {},
   "outputs": [
    {
     "data": {
      "text/plain": [
       "'https://api.twitter.com/2/tweets/search/recent?query=cleveland%20%28cavs%20OR%20cavaliers%20OR%20preseason%20OR%20nba%29%20%28cavs%20OR%20evanmobley%20OR%20daruisgarland%20OR%20isaacokoro%20OR%20jarrettallen%20OR%20nbacavs%20OR%20donovanmitchell%20OR%20cavswizards%20OR%20cavsmagic%20OR%20cavsbulls%29%20lang%3Aen%20-adidas%20-%40adidas%20-%23adidas%20-is%3Aretweet&tweet.fields=public_metrics,created_at&expansions=author_id&user.fields=username,location&max_results=100'"
      ]
     },
     "execution_count": 55,
     "metadata": {},
     "output_type": "execute_result"
    }
   ],
   "source": [
    "query_url"
   ]
  },
  {
   "cell_type": "code",
   "execution_count": 56,
   "id": "1fac0929",
   "metadata": {},
   "outputs": [],
   "source": [
    "response = requests.get(query_url, headers = header)"
   ]
  },
  {
   "cell_type": "code",
   "execution_count": 57,
   "id": "d9270d1c",
   "metadata": {},
   "outputs": [],
   "source": [
    "response_dict = json.loads(response.text)"
   ]
  },
  {
   "cell_type": "code",
   "execution_count": 63,
   "id": "acc34332",
   "metadata": {},
   "outputs": [],
   "source": [
    "response_df = pd.DataFrame(response_dict['data'])"
   ]
  },
  {
   "cell_type": "code",
   "execution_count": 70,
   "id": "5cb603b9",
   "metadata": {},
   "outputs": [],
   "source": [
    "response_df_locs = pd.DataFrame(response_dict['includes']['users'])"
   ]
  },
  {
   "cell_type": "code",
   "execution_count": 64,
   "id": "e18612f3",
   "metadata": {},
   "outputs": [
    {
     "data": {
      "text/plain": [
       "dict_keys(['data', 'includes', 'meta'])"
      ]
     },
     "execution_count": 64,
     "metadata": {},
     "output_type": "execute_result"
    }
   ],
   "source": [
    "response_dict.keys()"
   ]
  },
  {
   "cell_type": "markdown",
   "id": "14b2e079",
   "metadata": {},
   "source": [
    "#### Below is my first DataFrame, this includes the username, id, name and location. Location is what Im the most concerned about here, as my goal is to see where people are located that are tweeting about the cavs."
   ]
  },
  {
   "cell_type": "code",
   "execution_count": 168,
   "id": "c7d3f409",
   "metadata": {},
   "outputs": [
    {
     "data": {
      "text/html": [
       "<div>\n",
       "<style scoped>\n",
       "    .dataframe tbody tr th:only-of-type {\n",
       "        vertical-align: middle;\n",
       "    }\n",
       "\n",
       "    .dataframe tbody tr th {\n",
       "        vertical-align: top;\n",
       "    }\n",
       "\n",
       "    .dataframe thead th {\n",
       "        text-align: right;\n",
       "    }\n",
       "</style>\n",
       "<table border=\"1\" class=\"dataframe\">\n",
       "  <thead>\n",
       "    <tr style=\"text-align: right;\">\n",
       "      <th></th>\n",
       "      <th>username</th>\n",
       "      <th>id</th>\n",
       "      <th>location</th>\n",
       "      <th>name</th>\n",
       "    </tr>\n",
       "  </thead>\n",
       "  <tbody>\n",
       "    <tr>\n",
       "      <th>0</th>\n",
       "      <td>faidley_david</td>\n",
       "      <td>1543976349798391808</td>\n",
       "      <td>Laurel Highlands PA</td>\n",
       "      <td>DF727</td>\n",
       "    </tr>\n",
       "    <tr>\n",
       "      <th>1</th>\n",
       "      <td>KosichJohn</td>\n",
       "      <td>551434032</td>\n",
       "      <td>Cleveland</td>\n",
       "      <td>John Kosich</td>\n",
       "    </tr>\n",
       "    <tr>\n",
       "      <th>2</th>\n",
       "      <td>fox8news</td>\n",
       "      <td>16243550</td>\n",
       "      <td>Cleveland</td>\n",
       "      <td>fox8news</td>\n",
       "    </tr>\n",
       "    <tr>\n",
       "      <th>3</th>\n",
       "      <td>ChrisFedor</td>\n",
       "      <td>123777284</td>\n",
       "      <td>Cleveland, OH</td>\n",
       "      <td>Chris Fedor</td>\n",
       "    </tr>\n",
       "    <tr>\n",
       "      <th>4</th>\n",
       "      <td>AmNotEvan</td>\n",
       "      <td>714293764676796417</td>\n",
       "      <td>Cleveland | he/him</td>\n",
       "      <td>Evan Dammarell</td>\n",
       "    </tr>\n",
       "    <tr>\n",
       "      <th>...</th>\n",
       "      <td>...</td>\n",
       "      <td>...</td>\n",
       "      <td>...</td>\n",
       "      <td>...</td>\n",
       "    </tr>\n",
       "    <tr>\n",
       "      <th>79</th>\n",
       "      <td>SeniorsWinSBs</td>\n",
       "      <td>1073146200352833536</td>\n",
       "      <td>O-H-I-O</td>\n",
       "      <td>Mr. Football</td>\n",
       "    </tr>\n",
       "    <tr>\n",
       "      <th>80</th>\n",
       "      <td>IamGFranklin</td>\n",
       "      <td>148770371</td>\n",
       "      <td>Cleveland Ohio</td>\n",
       "      <td>G. A. Franklin</td>\n",
       "    </tr>\n",
       "    <tr>\n",
       "      <th>81</th>\n",
       "      <td>postupvideos</td>\n",
       "      <td>1479800838667358215</td>\n",
       "      <td>Fort Lauderdale, FL</td>\n",
       "      <td>PostUpVideos.com</td>\n",
       "    </tr>\n",
       "    <tr>\n",
       "      <th>82</th>\n",
       "      <td>itBMe216</td>\n",
       "      <td>3363167751</td>\n",
       "      <td>Unknown crack alley</td>\n",
       "      <td>add my name</td>\n",
       "    </tr>\n",
       "    <tr>\n",
       "      <th>83</th>\n",
       "      <td>JDRhoaddog</td>\n",
       "      <td>30938781</td>\n",
       "      <td>NaN</td>\n",
       "      <td>JR</td>\n",
       "    </tr>\n",
       "  </tbody>\n",
       "</table>\n",
       "<p>84 rows × 4 columns</p>\n",
       "</div>"
      ],
      "text/plain": [
       "         username                   id              location              name\n",
       "0   faidley_david  1543976349798391808   Laurel Highlands PA             DF727\n",
       "1      KosichJohn            551434032             Cleveland       John Kosich\n",
       "2        fox8news             16243550             Cleveland          fox8news\n",
       "3      ChrisFedor            123777284         Cleveland, OH       Chris Fedor\n",
       "4       AmNotEvan   714293764676796417    Cleveland | he/him    Evan Dammarell\n",
       "..            ...                  ...                   ...               ...\n",
       "79  SeniorsWinSBs  1073146200352833536               O-H-I-O      Mr. Football\n",
       "80   IamGFranklin            148770371        Cleveland Ohio    G. A. Franklin\n",
       "81   postupvideos  1479800838667358215   Fort Lauderdale, FL  PostUpVideos.com\n",
       "82       itBMe216           3363167751  Unknown crack alley        add my name\n",
       "83     JDRhoaddog             30938781                   NaN                JR\n",
       "\n",
       "[84 rows x 4 columns]"
      ]
     },
     "execution_count": 168,
     "metadata": {},
     "output_type": "execute_result"
    }
   ],
   "source": [
    "response_df_locs"
   ]
  },
  {
   "cell_type": "markdown",
   "id": "2166cac3",
   "metadata": {},
   "source": [
    "#### Below is my 2nd DataFrame, which includes a lot more than the first, here, we are most focused on creation time, and the text of what the tweet actually says."
   ]
  },
  {
   "cell_type": "code",
   "execution_count": 72,
   "id": "1129a788",
   "metadata": {
    "scrolled": true
   },
   "outputs": [
    {
     "data": {
      "text/html": [
       "<div>\n",
       "<style scoped>\n",
       "    .dataframe tbody tr th:only-of-type {\n",
       "        vertical-align: middle;\n",
       "    }\n",
       "\n",
       "    .dataframe tbody tr th {\n",
       "        vertical-align: top;\n",
       "    }\n",
       "\n",
       "    .dataframe thead th {\n",
       "        text-align: right;\n",
       "    }\n",
       "</style>\n",
       "<table border=\"1\" class=\"dataframe\">\n",
       "  <thead>\n",
       "    <tr style=\"text-align: right;\">\n",
       "      <th></th>\n",
       "      <th>author_id</th>\n",
       "      <th>public_metrics</th>\n",
       "      <th>edit_history_tweet_ids</th>\n",
       "      <th>created_at</th>\n",
       "      <th>id</th>\n",
       "      <th>text</th>\n",
       "    </tr>\n",
       "  </thead>\n",
       "  <tbody>\n",
       "    <tr>\n",
       "      <th>0</th>\n",
       "      <td>1543976349798391808</td>\n",
       "      <td>{'retweet_count': 0, 'reply_count': 0, 'like_c...</td>\n",
       "      <td>[1585031635623632896]</td>\n",
       "      <td>2022-10-25T22:12:45.000Z</td>\n",
       "      <td>1585031635623632896</td>\n",
       "      <td>I would hope Cleveland fans would spend their ...</td>\n",
       "    </tr>\n",
       "    <tr>\n",
       "      <th>1</th>\n",
       "      <td>551434032</td>\n",
       "      <td>{'retweet_count': 0, 'reply_count': 0, 'like_c...</td>\n",
       "      <td>[1585029013856296972]</td>\n",
       "      <td>2022-10-25T22:02:19.000Z</td>\n",
       "      <td>1585029013856296972</td>\n",
       "      <td>6 years ago tonight, a magical night in Clevel...</td>\n",
       "    </tr>\n",
       "    <tr>\n",
       "      <th>2</th>\n",
       "      <td>16243550</td>\n",
       "      <td>{'retweet_count': 0, 'reply_count': 1, 'like_c...</td>\n",
       "      <td>[1585028976086765568]</td>\n",
       "      <td>2022-10-25T22:02:10.000Z</td>\n",
       "      <td>1585028976086765568</td>\n",
       "      <td>Basketball returned to Cleveland over the week...</td>\n",
       "    </tr>\n",
       "    <tr>\n",
       "      <th>3</th>\n",
       "      <td>123777284</td>\n",
       "      <td>{'retweet_count': 4, 'reply_count': 2, 'like_c...</td>\n",
       "      <td>[1585024191371177984]</td>\n",
       "      <td>2022-10-25T21:43:10.000Z</td>\n",
       "      <td>1585024191371177984</td>\n",
       "      <td>Going back to last year, #Cavs coach J.B. Bick...</td>\n",
       "    </tr>\n",
       "    <tr>\n",
       "      <th>4</th>\n",
       "      <td>714293764676796417</td>\n",
       "      <td>{'retweet_count': 0, 'reply_count': 1, 'like_c...</td>\n",
       "      <td>[1585014227533602819]</td>\n",
       "      <td>2022-10-25T21:03:34.000Z</td>\n",
       "      <td>1585014227533602819</td>\n",
       "      <td>Mike Brown is in Cleveland and this time it is...</td>\n",
       "    </tr>\n",
       "  </tbody>\n",
       "</table>\n",
       "</div>"
      ],
      "text/plain": [
       "             author_id                                     public_metrics  \\\n",
       "0  1543976349798391808  {'retweet_count': 0, 'reply_count': 0, 'like_c...   \n",
       "1            551434032  {'retweet_count': 0, 'reply_count': 0, 'like_c...   \n",
       "2             16243550  {'retweet_count': 0, 'reply_count': 1, 'like_c...   \n",
       "3            123777284  {'retweet_count': 4, 'reply_count': 2, 'like_c...   \n",
       "4   714293764676796417  {'retweet_count': 0, 'reply_count': 1, 'like_c...   \n",
       "\n",
       "  edit_history_tweet_ids                created_at                   id  \\\n",
       "0  [1585031635623632896]  2022-10-25T22:12:45.000Z  1585031635623632896   \n",
       "1  [1585029013856296972]  2022-10-25T22:02:19.000Z  1585029013856296972   \n",
       "2  [1585028976086765568]  2022-10-25T22:02:10.000Z  1585028976086765568   \n",
       "3  [1585024191371177984]  2022-10-25T21:43:10.000Z  1585024191371177984   \n",
       "4  [1585014227533602819]  2022-10-25T21:03:34.000Z  1585014227533602819   \n",
       "\n",
       "                                                text  \n",
       "0  I would hope Cleveland fans would spend their ...  \n",
       "1  6 years ago tonight, a magical night in Clevel...  \n",
       "2  Basketball returned to Cleveland over the week...  \n",
       "3  Going back to last year, #Cavs coach J.B. Bick...  \n",
       "4  Mike Brown is in Cleveland and this time it is...  "
      ]
     },
     "execution_count": 72,
     "metadata": {},
     "output_type": "execute_result"
    }
   ],
   "source": [
    "response_df.head()"
   ]
  },
  {
   "cell_type": "code",
   "execution_count": 73,
   "id": "2f28e786",
   "metadata": {
    "scrolled": true
   },
   "outputs": [
    {
     "data": {
      "text/plain": [
       "'b26v89c19zqg8o3fpzel4no9h0ohyqus0k2vqznwmf0xp'"
      ]
     },
     "execution_count": 73,
     "metadata": {},
     "output_type": "execute_result"
    }
   ],
   "source": [
    "response_dict['meta']['next_token']"
   ]
  },
  {
   "cell_type": "code",
   "execution_count": 74,
   "id": "577d97b8",
   "metadata": {},
   "outputs": [],
   "source": [
    "next_query_url = query_url + \"&next_token={}\".format(response_dict['meta']['next_token'])"
   ]
  },
  {
   "cell_type": "code",
   "execution_count": 75,
   "id": "8413c9df",
   "metadata": {},
   "outputs": [],
   "source": [
    "next_response = requests.get(next_query_url, headers = header)"
   ]
  },
  {
   "cell_type": "code",
   "execution_count": 76,
   "id": "cdbe6d7a",
   "metadata": {},
   "outputs": [],
   "source": [
    "next_response_dict = json.loads(response.text)"
   ]
  },
  {
   "cell_type": "code",
   "execution_count": 77,
   "id": "61e062b8",
   "metadata": {},
   "outputs": [
    {
     "data": {
      "text/plain": [
       "{'newest_id': '1585031635623632896',\n",
       " 'oldest_id': '1584599036417671168',\n",
       " 'result_count': 100,\n",
       " 'next_token': 'b26v89c19zqg8o3fpzel4no9h0ohyqus0k2vqznwmf0xp'}"
      ]
     },
     "execution_count": 77,
     "metadata": {},
     "output_type": "execute_result"
    }
   ],
   "source": [
    "next_response_dict['meta']"
   ]
  },
  {
   "cell_type": "markdown",
   "id": "def42393",
   "metadata": {},
   "source": [
    "#### Below is a function created for gathering the tweets"
   ]
  },
  {
   "cell_type": "code",
   "execution_count": 78,
   "id": "bc2cf8d1",
   "metadata": {},
   "outputs": [],
   "source": [
    "def twt_recent_search (query, num_pages, header):\n",
    "    response_list = []\n",
    "    next_token = ''\n",
    "    for i in range(0, num_pages):\n",
    "        if i > 0:\n",
    "            this_query = query + \"&next_token={}\".format(next_token)\n",
    "        else:\n",
    "            this_query = query\n",
    "        \n",
    "        this_response = requests.get(this_query, headers = header)\n",
    "        print(this_response.status_code)\n",
    "        this_response_dict = json.loads(this_response.text)\n",
    "        response_list.append(this_response_dict)\n",
    "        next_token = this_response_dict['meta']['next_token']\n",
    "        \n",
    "    return response_list"
   ]
  },
  {
   "cell_type": "code",
   "execution_count": 124,
   "id": "9bcbb5e3",
   "metadata": {},
   "outputs": [
    {
     "name": "stdout",
     "output_type": "stream",
     "text": [
      "200\n",
      "200\n",
      "200\n",
      "200\n",
      "200\n"
     ]
    }
   ],
   "source": [
    "my_responses = twt_recent_search(query_url, 5, header)"
   ]
  },
  {
   "cell_type": "code",
   "execution_count": 125,
   "id": "7e585ae4",
   "metadata": {},
   "outputs": [],
   "source": [
    "results_1 = pd.DataFrame.from_records(my_responses)"
   ]
  },
  {
   "cell_type": "code",
   "execution_count": 126,
   "id": "446ef89d",
   "metadata": {
    "scrolled": true
   },
   "outputs": [],
   "source": [
    "data_list = list(results_1['data'])"
   ]
  },
  {
   "cell_type": "code",
   "execution_count": 127,
   "id": "337c0c7d",
   "metadata": {},
   "outputs": [],
   "source": [
    "data_lists_of_dfs = [pd.DataFrame(x) for x in data_list]"
   ]
  },
  {
   "cell_type": "code",
   "execution_count": 128,
   "id": "366c68cf",
   "metadata": {},
   "outputs": [],
   "source": [
    "data_df = pd.concat(data_lists_of_dfs)"
   ]
  },
  {
   "cell_type": "markdown",
   "id": "36b549c5",
   "metadata": {},
   "source": [
    "#### Below is a DataFrame similar to one of the previous ones, but this is generated from the function created above"
   ]
  },
  {
   "cell_type": "code",
   "execution_count": 129,
   "id": "06e929d3",
   "metadata": {
    "scrolled": true
   },
   "outputs": [
    {
     "data": {
      "text/html": [
       "<div>\n",
       "<style scoped>\n",
       "    .dataframe tbody tr th:only-of-type {\n",
       "        vertical-align: middle;\n",
       "    }\n",
       "\n",
       "    .dataframe tbody tr th {\n",
       "        vertical-align: top;\n",
       "    }\n",
       "\n",
       "    .dataframe thead th {\n",
       "        text-align: right;\n",
       "    }\n",
       "</style>\n",
       "<table border=\"1\" class=\"dataframe\">\n",
       "  <thead>\n",
       "    <tr style=\"text-align: right;\">\n",
       "      <th></th>\n",
       "      <th>edit_history_tweet_ids</th>\n",
       "      <th>created_at</th>\n",
       "      <th>public_metrics</th>\n",
       "      <th>author_id</th>\n",
       "      <th>text</th>\n",
       "      <th>id</th>\n",
       "    </tr>\n",
       "  </thead>\n",
       "  <tbody>\n",
       "    <tr>\n",
       "      <th>0</th>\n",
       "      <td>[1585056484735741954]</td>\n",
       "      <td>2022-10-25T23:51:29.000Z</td>\n",
       "      <td>{'retweet_count': 0, 'reply_count': 0, 'like_c...</td>\n",
       "      <td>1543652260055601156</td>\n",
       "      <td>@ESPNCleveland WE ARE TIRED OF CLEVELAND SPORT...</td>\n",
       "      <td>1585056484735741954</td>\n",
       "    </tr>\n",
       "    <tr>\n",
       "      <th>1</th>\n",
       "      <td>[1585054496132333569]</td>\n",
       "      <td>2022-10-25T23:43:35.000Z</td>\n",
       "      <td>{'retweet_count': 0, 'reply_count': 0, 'like_c...</td>\n",
       "      <td>4888287942</td>\n",
       "      <td>@Abubakerrr1 @Bgmegamanzero1 I was a Laker fan...</td>\n",
       "      <td>1585054496132333569</td>\n",
       "    </tr>\n",
       "    <tr>\n",
       "      <th>2</th>\n",
       "      <td>[1585054468986765312]</td>\n",
       "      <td>2022-10-25T23:43:28.000Z</td>\n",
       "      <td>{'retweet_count': 0, 'reply_count': 1, 'like_c...</td>\n",
       "      <td>1543652260055601156</td>\n",
       "      <td>@AnthonyAlford92  \"UNINTELLIGENT CLEVELAND SPO...</td>\n",
       "      <td>1585054468986765312</td>\n",
       "    </tr>\n",
       "    <tr>\n",
       "      <th>3</th>\n",
       "      <td>[1585049472308252673]</td>\n",
       "      <td>2022-10-25T23:23:37.000Z</td>\n",
       "      <td>{'retweet_count': 0, 'reply_count': 0, 'like_c...</td>\n",
       "      <td>1509354741553319942</td>\n",
       "      <td>Heed the reed bech \\n/tU😀OE3WA056YF\\nHEREESSS2...</td>\n",
       "      <td>1585049472308252673</td>\n",
       "    </tr>\n",
       "    <tr>\n",
       "      <th>4</th>\n",
       "      <td>[1585049116710576128]</td>\n",
       "      <td>2022-10-25T23:22:12.000Z</td>\n",
       "      <td>{'retweet_count': 0, 'reply_count': 0, 'like_c...</td>\n",
       "      <td>163927613</td>\n",
       "      <td>Three games into the season, the fact that Don...</td>\n",
       "      <td>1585049116710576128</td>\n",
       "    </tr>\n",
       "    <tr>\n",
       "      <th>...</th>\n",
       "      <td>...</td>\n",
       "      <td>...</td>\n",
       "      <td>...</td>\n",
       "      <td>...</td>\n",
       "      <td>...</td>\n",
       "      <td>...</td>\n",
       "    </tr>\n",
       "    <tr>\n",
       "      <th>95</th>\n",
       "      <td>[1584203402589806592]</td>\n",
       "      <td>2022-10-23T15:21:38.000Z</td>\n",
       "      <td>{'retweet_count': 0, 'reply_count': 0, 'like_c...</td>\n",
       "      <td>57031415</td>\n",
       "      <td>Nba Props /Spread \\n\\nCleveland Cavs -3.5\\nPho...</td>\n",
       "      <td>1584203402589806592</td>\n",
       "    </tr>\n",
       "    <tr>\n",
       "      <th>96</th>\n",
       "      <td>[1584203031524282368]</td>\n",
       "      <td>2022-10-23T15:20:10.000Z</td>\n",
       "      <td>{'retweet_count': 0, 'reply_count': 0, 'like_c...</td>\n",
       "      <td>121491617</td>\n",
       "      <td>If MIN, MEM or NO moved to the East, how would...</td>\n",
       "      <td>1584203031524282368</td>\n",
       "    </tr>\n",
       "    <tr>\n",
       "      <th>97</th>\n",
       "      <td>[1584200689030692865]</td>\n",
       "      <td>2022-10-23T15:10:51.000Z</td>\n",
       "      <td>{'retweet_count': 0, 'reply_count': 0, 'like_c...</td>\n",
       "      <td>1418612989272465412</td>\n",
       "      <td>Last Sunday, the football team from Cleveland ...</td>\n",
       "      <td>1584200689030692865</td>\n",
       "    </tr>\n",
       "    <tr>\n",
       "      <th>98</th>\n",
       "      <td>[1584198863862525953]</td>\n",
       "      <td>2022-10-23T15:03:36.000Z</td>\n",
       "      <td>{'retweet_count': 82, 'reply_count': 15, 'like...</td>\n",
       "      <td>19263978</td>\n",
       "      <td>Cleveland, we're home.\\n\\n🕖 7:00PM ET\\n📺 @Ball...</td>\n",
       "      <td>1584198863862525953</td>\n",
       "    </tr>\n",
       "    <tr>\n",
       "      <th>99</th>\n",
       "      <td>[1584197899344220160]</td>\n",
       "      <td>2022-10-23T14:59:46.000Z</td>\n",
       "      <td>{'retweet_count': 0, 'reply_count': 0, 'like_c...</td>\n",
       "      <td>142075953</td>\n",
       "      <td>I wanted to go to the Bulls’ home opener last ...</td>\n",
       "      <td>1584197899344220160</td>\n",
       "    </tr>\n",
       "  </tbody>\n",
       "</table>\n",
       "<p>500 rows × 6 columns</p>\n",
       "</div>"
      ],
      "text/plain": [
       "   edit_history_tweet_ids                created_at  \\\n",
       "0   [1585056484735741954]  2022-10-25T23:51:29.000Z   \n",
       "1   [1585054496132333569]  2022-10-25T23:43:35.000Z   \n",
       "2   [1585054468986765312]  2022-10-25T23:43:28.000Z   \n",
       "3   [1585049472308252673]  2022-10-25T23:23:37.000Z   \n",
       "4   [1585049116710576128]  2022-10-25T23:22:12.000Z   \n",
       "..                    ...                       ...   \n",
       "95  [1584203402589806592]  2022-10-23T15:21:38.000Z   \n",
       "96  [1584203031524282368]  2022-10-23T15:20:10.000Z   \n",
       "97  [1584200689030692865]  2022-10-23T15:10:51.000Z   \n",
       "98  [1584198863862525953]  2022-10-23T15:03:36.000Z   \n",
       "99  [1584197899344220160]  2022-10-23T14:59:46.000Z   \n",
       "\n",
       "                                       public_metrics            author_id  \\\n",
       "0   {'retweet_count': 0, 'reply_count': 0, 'like_c...  1543652260055601156   \n",
       "1   {'retweet_count': 0, 'reply_count': 0, 'like_c...           4888287942   \n",
       "2   {'retweet_count': 0, 'reply_count': 1, 'like_c...  1543652260055601156   \n",
       "3   {'retweet_count': 0, 'reply_count': 0, 'like_c...  1509354741553319942   \n",
       "4   {'retweet_count': 0, 'reply_count': 0, 'like_c...            163927613   \n",
       "..                                                ...                  ...   \n",
       "95  {'retweet_count': 0, 'reply_count': 0, 'like_c...             57031415   \n",
       "96  {'retweet_count': 0, 'reply_count': 0, 'like_c...            121491617   \n",
       "97  {'retweet_count': 0, 'reply_count': 0, 'like_c...  1418612989272465412   \n",
       "98  {'retweet_count': 82, 'reply_count': 15, 'like...             19263978   \n",
       "99  {'retweet_count': 0, 'reply_count': 0, 'like_c...            142075953   \n",
       "\n",
       "                                                 text                   id  \n",
       "0   @ESPNCleveland WE ARE TIRED OF CLEVELAND SPORT...  1585056484735741954  \n",
       "1   @Abubakerrr1 @Bgmegamanzero1 I was a Laker fan...  1585054496132333569  \n",
       "2   @AnthonyAlford92  \"UNINTELLIGENT CLEVELAND SPO...  1585054468986765312  \n",
       "3   Heed the reed bech \\n/tU😀OE3WA056YF\\nHEREESSS2...  1585049472308252673  \n",
       "4   Three games into the season, the fact that Don...  1585049116710576128  \n",
       "..                                                ...                  ...  \n",
       "95  Nba Props /Spread \\n\\nCleveland Cavs -3.5\\nPho...  1584203402589806592  \n",
       "96  If MIN, MEM or NO moved to the East, how would...  1584203031524282368  \n",
       "97  Last Sunday, the football team from Cleveland ...  1584200689030692865  \n",
       "98  Cleveland, we're home.\\n\\n🕖 7:00PM ET\\n📺 @Ball...  1584198863862525953  \n",
       "99  I wanted to go to the Bulls’ home opener last ...  1584197899344220160  \n",
       "\n",
       "[500 rows x 6 columns]"
      ]
     },
     "execution_count": 129,
     "metadata": {},
     "output_type": "execute_result"
    }
   ],
   "source": [
    "data_df"
   ]
  },
  {
   "cell_type": "code",
   "execution_count": 136,
   "id": "c99d44fd",
   "metadata": {},
   "outputs": [
    {
     "name": "stdout",
     "output_type": "stream",
     "text": [
      "200\n",
      "200\n",
      "200\n",
      "200\n",
      "200\n"
     ]
    }
   ],
   "source": [
    "my_responses2 = twt_recent_search(query_url, 5, header)"
   ]
  },
  {
   "cell_type": "code",
   "execution_count": 137,
   "id": "6bc8d1ff",
   "metadata": {},
   "outputs": [],
   "source": [
    "results2 = pd.DataFrame.from_records(my_responses2)"
   ]
  },
  {
   "cell_type": "code",
   "execution_count": 138,
   "id": "eea1e52f",
   "metadata": {},
   "outputs": [],
   "source": [
    "data_list2 = list(results2['includes'])"
   ]
  },
  {
   "cell_type": "code",
   "execution_count": 139,
   "id": "dc5e2389",
   "metadata": {},
   "outputs": [],
   "source": [
    "data_lists_of_dfs2 = [pd.DataFrame(x) for x in data_list2]"
   ]
  },
  {
   "cell_type": "code",
   "execution_count": 140,
   "id": "c67f3e49",
   "metadata": {},
   "outputs": [],
   "source": [
    "data_df2 = pd.concat(data_lists_of_dfs2)"
   ]
  },
  {
   "cell_type": "markdown",
   "id": "15a823db",
   "metadata": {},
   "source": [
    "#### Again, below is a DataFrame similar to one of the previous ones, but this is generated from the function created above"
   ]
  },
  {
   "cell_type": "code",
   "execution_count": 166,
   "id": "faa13f77",
   "metadata": {},
   "outputs": [
    {
     "data": {
      "text/html": [
       "<div>\n",
       "<style scoped>\n",
       "    .dataframe tbody tr th:only-of-type {\n",
       "        vertical-align: middle;\n",
       "    }\n",
       "\n",
       "    .dataframe tbody tr th {\n",
       "        vertical-align: top;\n",
       "    }\n",
       "\n",
       "    .dataframe thead th {\n",
       "        text-align: right;\n",
       "    }\n",
       "</style>\n",
       "<table border=\"1\" class=\"dataframe\">\n",
       "  <thead>\n",
       "    <tr style=\"text-align: right;\">\n",
       "      <th></th>\n",
       "      <th>users</th>\n",
       "    </tr>\n",
       "  </thead>\n",
       "  <tbody>\n",
       "    <tr>\n",
       "      <th>0</th>\n",
       "      <td>{'name': 'Curtis Brown', 'id': '15436522600556...</td>\n",
       "    </tr>\n",
       "    <tr>\n",
       "      <th>1</th>\n",
       "      <td>{'name': 'Dre Day', 'id': '4888287942', 'usern...</td>\n",
       "    </tr>\n",
       "    <tr>\n",
       "      <th>2</th>\n",
       "      <td>{'name': 'AUSTIN_CARR.EXE', 'id': '15093547415...</td>\n",
       "    </tr>\n",
       "    <tr>\n",
       "      <th>3</th>\n",
       "      <td>{'name': 'Josh Poloha', 'id': '163927613', 'us...</td>\n",
       "    </tr>\n",
       "    <tr>\n",
       "      <th>4</th>\n",
       "      <td>{'name': 'Jay Filaye', 'id': '1233981215474143...</td>\n",
       "    </tr>\n",
       "    <tr>\n",
       "      <th>...</th>\n",
       "      <td>...</td>\n",
       "    </tr>\n",
       "    <tr>\n",
       "      <th>89</th>\n",
       "      <td>{'location': 'Paterson, New Jersey', 'id': '57...</td>\n",
       "    </tr>\n",
       "    <tr>\n",
       "      <th>90</th>\n",
       "      <td>{'location': 'Valenzuela', 'id': '121491617', ...</td>\n",
       "    </tr>\n",
       "    <tr>\n",
       "      <th>91</th>\n",
       "      <td>{'location': 'Cleveland, OH', 'id': '141861298...</td>\n",
       "    </tr>\n",
       "    <tr>\n",
       "      <th>92</th>\n",
       "      <td>{'location': 'Cleveland, OH', 'id': '19263978'...</td>\n",
       "    </tr>\n",
       "    <tr>\n",
       "      <th>93</th>\n",
       "      <td>{'location': 'Illinois ', 'id': '142075953', '...</td>\n",
       "    </tr>\n",
       "  </tbody>\n",
       "</table>\n",
       "<p>446 rows × 1 columns</p>\n",
       "</div>"
      ],
      "text/plain": [
       "                                                users\n",
       "0   {'name': 'Curtis Brown', 'id': '15436522600556...\n",
       "1   {'name': 'Dre Day', 'id': '4888287942', 'usern...\n",
       "2   {'name': 'AUSTIN_CARR.EXE', 'id': '15093547415...\n",
       "3   {'name': 'Josh Poloha', 'id': '163927613', 'us...\n",
       "4   {'name': 'Jay Filaye', 'id': '1233981215474143...\n",
       "..                                                ...\n",
       "89  {'location': 'Paterson, New Jersey', 'id': '57...\n",
       "90  {'location': 'Valenzuela', 'id': '121491617', ...\n",
       "91  {'location': 'Cleveland, OH', 'id': '141861298...\n",
       "92  {'location': 'Cleveland, OH', 'id': '19263978'...\n",
       "93  {'location': 'Illinois ', 'id': '142075953', '...\n",
       "\n",
       "[446 rows x 1 columns]"
      ]
     },
     "execution_count": 166,
     "metadata": {},
     "output_type": "execute_result"
    }
   ],
   "source": [
    "data_df2"
   ]
  },
  {
   "cell_type": "code",
   "execution_count": 142,
   "id": "c2ea8980",
   "metadata": {},
   "outputs": [],
   "source": [
    "data_df_tweets = pd.DataFrame(data_df['text'])"
   ]
  },
  {
   "cell_type": "markdown",
   "id": "53cf4648",
   "metadata": {},
   "source": [
    "#### Below is the text of the actual tweet (I couldnt understand how to get it to display the entire output, I dont understand why it does this)"
   ]
  },
  {
   "cell_type": "code",
   "execution_count": 171,
   "id": "9c02b503",
   "metadata": {
    "scrolled": true
   },
   "outputs": [
    {
     "data": {
      "text/html": [
       "<div>\n",
       "<style scoped>\n",
       "    .dataframe tbody tr th:only-of-type {\n",
       "        vertical-align: middle;\n",
       "    }\n",
       "\n",
       "    .dataframe tbody tr th {\n",
       "        vertical-align: top;\n",
       "    }\n",
       "\n",
       "    .dataframe thead th {\n",
       "        text-align: right;\n",
       "    }\n",
       "</style>\n",
       "<table border=\"1\" class=\"dataframe\">\n",
       "  <thead>\n",
       "    <tr style=\"text-align: right;\">\n",
       "      <th></th>\n",
       "      <th>text</th>\n",
       "    </tr>\n",
       "  </thead>\n",
       "  <tbody>\n",
       "    <tr>\n",
       "      <th>0</th>\n",
       "      <td>@ESPNCleveland WE ARE TIRED OF CLEVELAND SPORT...</td>\n",
       "    </tr>\n",
       "    <tr>\n",
       "      <th>1</th>\n",
       "      <td>@Abubakerrr1 @Bgmegamanzero1 I was a Laker fan...</td>\n",
       "    </tr>\n",
       "    <tr>\n",
       "      <th>2</th>\n",
       "      <td>@AnthonyAlford92  \"UNINTELLIGENT CLEVELAND SPO...</td>\n",
       "    </tr>\n",
       "    <tr>\n",
       "      <th>3</th>\n",
       "      <td>Heed the reed bech \\n/tU😀OE3WA056YF\\nHEREESSS2...</td>\n",
       "    </tr>\n",
       "    <tr>\n",
       "      <th>4</th>\n",
       "      <td>Three games into the season, the fact that Don...</td>\n",
       "    </tr>\n",
       "    <tr>\n",
       "      <th>5</th>\n",
       "      <td>@clickthatfollow @reesh0001 @TherealMiiC @funn...</td>\n",
       "    </tr>\n",
       "    <tr>\n",
       "      <th>6</th>\n",
       "      <td>Here is a link to purchase tickets for the Boy...</td>\n",
       "    </tr>\n",
       "    <tr>\n",
       "      <th>7</th>\n",
       "      <td>@DevaronPerry I’m from California and can’t wa...</td>\n",
       "    </tr>\n",
       "    <tr>\n",
       "      <th>8</th>\n",
       "      <td>I would hope Cleveland fans would spend their ...</td>\n",
       "    </tr>\n",
       "    <tr>\n",
       "      <th>9</th>\n",
       "      <td>6 years ago tonight, a magical night in Clevel...</td>\n",
       "    </tr>\n",
       "  </tbody>\n",
       "</table>\n",
       "</div>"
      ],
      "text/plain": [
       "                                                text\n",
       "0  @ESPNCleveland WE ARE TIRED OF CLEVELAND SPORT...\n",
       "1  @Abubakerrr1 @Bgmegamanzero1 I was a Laker fan...\n",
       "2  @AnthonyAlford92  \"UNINTELLIGENT CLEVELAND SPO...\n",
       "3  Heed the reed bech \\n/tU😀OE3WA056YF\\nHEREESSS2...\n",
       "4  Three games into the season, the fact that Don...\n",
       "5  @clickthatfollow @reesh0001 @TherealMiiC @funn...\n",
       "6  Here is a link to purchase tickets for the Boy...\n",
       "7  @DevaronPerry I’m from California and can’t wa...\n",
       "8  I would hope Cleveland fans would spend their ...\n",
       "9  6 years ago tonight, a magical night in Clevel..."
      ]
     },
     "execution_count": 171,
     "metadata": {},
     "output_type": "execute_result"
    }
   ],
   "source": [
    "data_df_tweets[:10]"
   ]
  },
  {
   "cell_type": "markdown",
   "id": "ad5c868b",
   "metadata": {},
   "source": [
    "#### Again, I couldnt understand how to pull out the location since it is not listed for every user, so it will not have its own singular DataFrame, however I will still use the DataFrame from earlier that includes the locations to come up with my results"
   ]
  },
  {
   "cell_type": "code",
   "execution_count": 160,
   "id": "8cfc9f45",
   "metadata": {},
   "outputs": [],
   "source": [
    "data_df_locs_test = [['location'] for x in data_df2['users']]"
   ]
  },
  {
   "cell_type": "markdown",
   "id": "197931ae",
   "metadata": {},
   "source": [
    "#### Based off the dataframes I came up with, most users tweeting about the cavs are located in the area. To my surprise, the poeple outside of the city of Cleveland that are talking about the cavs, arent located in the cities of the teams that the cavs have recently played, it moreso seems like just general fans of the NBA discussing what they think about teams."
   ]
  },
  {
   "cell_type": "code",
   "execution_count": null,
   "id": "873bbcfa",
   "metadata": {},
   "outputs": [],
   "source": []
  }
 ],
 "metadata": {
  "kernelspec": {
   "display_name": "Python 3 (ipykernel)",
   "language": "python",
   "name": "python3"
  },
  "language_info": {
   "codemirror_mode": {
    "name": "ipython",
    "version": 3
   },
   "file_extension": ".py",
   "mimetype": "text/x-python",
   "name": "python",
   "nbconvert_exporter": "python",
   "pygments_lexer": "ipython3",
   "version": "3.9.12"
  }
 },
 "nbformat": 4,
 "nbformat_minor": 5
}
